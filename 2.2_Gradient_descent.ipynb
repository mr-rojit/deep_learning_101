{
 "cells": [
  {
   "cell_type": "markdown",
   "id": "5328a65e",
   "metadata": {},
   "source": [
    "## Gradient Descent with multiple inputs"
   ]
  },
  {
   "cell_type": "code",
   "execution_count": 1,
   "id": "430d2e9c",
   "metadata": {},
   "outputs": [],
   "source": [
    "import numpy as np"
   ]
  },
  {
   "cell_type": "code",
   "execution_count": 2,
   "id": "91cc74fc",
   "metadata": {},
   "outputs": [],
   "source": [
    "# lets create a NN with 3 inputs and 1 output"
   ]
  },
  {
   "cell_type": "code",
   "execution_count": 3,
   "id": "a42867c1",
   "metadata": {},
   "outputs": [],
   "source": [
    "alpha = 0.01\n",
    "inp = [8.5, 0.65, 1.2]\n",
    "weights = [0.1, 0.2, -0.1]\n",
    "actual = 1"
   ]
  },
  {
   "cell_type": "code",
   "execution_count": 4,
   "id": "124b9a20",
   "metadata": {},
   "outputs": [],
   "source": [
    "def w_sum(a,b):\n",
    "    output = 0\n",
    "    for i in range(len(a)):\n",
    "        output += (a[i] * b[i])\n",
    "    return output\n",
    "\n",
    "def neural_network(inputs, weights):\n",
    "    return w_sum(inputs, weights)"
   ]
  },
  {
   "cell_type": "code",
   "execution_count": 5,
   "id": "16af2766",
   "metadata": {},
   "outputs": [],
   "source": [
    "def calculate_weight_delta(inps, delta):\n",
    "    weight_delta = []\n",
    "    for i in range(len(inps)):\n",
    "        weight_delta.append(inps[i] * delta)\n",
    "    return weight_delta\n",
    "\n"
   ]
  },
  {
   "cell_type": "code",
   "execution_count": 6,
   "id": "8e902827",
   "metadata": {},
   "outputs": [
    {
     "name": "stdout",
     "output_type": "stream",
     "text": [
      "Pred-> 0.8600000000000001 | error ->  0.01959999999999997\n",
      "Pred-> 0.9637574999999999 | error ->  0.0013135188062500048\n",
      "Pred-> 0.9906177228125002 | error ->  8.802712522307997e-05\n"
     ]
    }
   ],
   "source": [
    "for i in range(3):\n",
    "    pred = neural_network(inp, weights)\n",
    "    delta = pred-actual\n",
    "    error = delta**2\n",
    "    print('Pred->' ,pred, '| error -> ', error)\n",
    "    weight_delta = calculate_weight_delta(inp, delta)\n",
    "    \n",
    "    \n",
    "    for i in range(len(weight_delta)):\n",
    "        weights[i]-=alpha*weight_delta[i]\n",
    "    "
   ]
  },
  {
   "cell_type": "markdown",
   "id": "cad3e3cb",
   "metadata": {},
   "source": [
    "## Gradient Descent with multiple inputs and outputs (3x3)"
   ]
  },
  {
   "cell_type": "code",
   "execution_count": 46,
   "id": "6942ec44",
   "metadata": {},
   "outputs": [],
   "source": [
    "alpha = 0.01\n",
    "true = [0.1, 1, 0.1]\n",
    "weights = [ [0.1, 0.1, -0.3], # already transposed weights\n",
    "            [0.1, 0.2, 0.0],\n",
    "            [0.0, 1.3, 0.1] ]\n",
    "inputs = [8.5, 0.65, 1.2]\n",
    "\n",
    "def vec_mat_mul(vec, mat):\n",
    "    assert(len(vec) == len(mat))\n",
    "    return np.dot(mat, vec)\n",
    "    \n",
    "def neural_network(inp, weights):\n",
    "    pred = vec_mat_mul(inp, weights)\n",
    "    return pred\n",
    "\n",
    "# def update_weights(w_delta):\n",
    "#     for i in range(len(weights)):\n",
    "#         for j in :\n",
    "            \n",
    "    \n"
   ]
  },
  {
   "cell_type": "code",
   "execution_count": 47,
   "id": "7e8356c8",
   "metadata": {},
   "outputs": [],
   "source": [
    "pred = neural_network(inputs, weights)\n",
    "error = [0, 0, 0]\n",
    "delta = [0, 0, 0]\n",
    "for i in range(len(true)):\n",
    "    error[i] = (pred[i] - true[i]) ** 2\n",
    "    delta[i] = pred[i] - true[i]\n",
    "    \n"
   ]
  },
  {
   "cell_type": "code",
   "execution_count": 48,
   "id": "91d12f32",
   "metadata": {},
   "outputs": [
    {
     "data": {
      "text/plain": [
       "[0.20702500000000007, 0.0003999999999999963, 0.7482250000000001]"
      ]
     },
     "execution_count": 48,
     "metadata": {},
     "output_type": "execute_result"
    }
   ],
   "source": [
    "error"
   ]
  },
  {
   "cell_type": "code",
   "execution_count": 49,
   "id": "78759bb1",
   "metadata": {},
   "outputs": [
    {
     "data": {
      "text/plain": [
       "[0.45500000000000007, -0.019999999999999907, 0.8650000000000001]"
      ]
     },
     "execution_count": 49,
     "metadata": {},
     "output_type": "execute_result"
    }
   ],
   "source": [
    "delta"
   ]
  },
  {
   "cell_type": "code",
   "execution_count": 50,
   "id": "e68159f0",
   "metadata": {},
   "outputs": [],
   "source": [
    "def outer_prod(vec_a, vec_b):\n",
    "    out = [\n",
    "        [0,0,0],\n",
    "        [0,0,0],\n",
    "        [0,0,0]\n",
    "    ]\n",
    "    for i in range(len(vec_a)):\n",
    "        for j in range(len(vec_b)):\n",
    "            out[i][j] = vec_a[i]*vec_b[j]\n",
    "    return out"
   ]
  },
  {
   "cell_type": "code",
   "execution_count": 51,
   "id": "ee781b0e",
   "metadata": {},
   "outputs": [
    {
     "data": {
      "text/plain": [
       "[[3.8675000000000006, -0.1699999999999992, 7.352500000000001],\n",
       " [0.29575000000000007, -0.01299999999999994, 0.5622500000000001],\n",
       " [0.546, -0.023999999999999886, 1.038]]"
      ]
     },
     "execution_count": 51,
     "metadata": {},
     "output_type": "execute_result"
    }
   ],
   "source": [
    "weight_deltas = outer_prod(inputs,delta)\n",
    "weight_deltas"
   ]
  },
  {
   "cell_type": "code",
   "execution_count": 53,
   "id": "7f45b03f",
   "metadata": {},
   "outputs": [],
   "source": [
    "# updating weights\n",
    "for i in range(len(weights)):\n",
    "    for j in range(len(weights[0])):\n",
    "        weights[i][j] -= alpha * weight_deltas[i][j]"
   ]
  },
  {
   "cell_type": "code",
   "execution_count": null,
   "id": "06f4061f",
   "metadata": {},
   "outputs": [],
   "source": []
  }
 ],
 "metadata": {
  "kernelspec": {
   "display_name": "Python 3 (ipykernel)",
   "language": "python",
   "name": "python3"
  },
  "language_info": {
   "codemirror_mode": {
    "name": "ipython",
    "version": 3
   },
   "file_extension": ".py",
   "mimetype": "text/x-python",
   "name": "python",
   "nbconvert_exporter": "python",
   "pygments_lexer": "ipython3",
   "version": "3.11.5"
  }
 },
 "nbformat": 4,
 "nbformat_minor": 5
}
