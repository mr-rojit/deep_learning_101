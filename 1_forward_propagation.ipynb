{
 "cells": [
  {
   "cell_type": "markdown",
   "id": "3f78c474",
   "metadata": {},
   "source": [
    " ## <center>predict, compare and learn</center>"
   ]
  },
  {
   "cell_type": "markdown",
   "id": "dc83fdec",
   "metadata": {},
   "source": [
    "Let start with a single neuron and weight. And ofcourse no learning right now.<br>\n",
    "<img src=\"1_images/single_neuron.jpg\" />"
   ]
  },
  {
   "cell_type": "markdown",
   "id": "bb4d6d66",
   "metadata": {},
   "source": [
    "A neural network, in its simplest form, uses the power of multiplication. It takes an input datapoint and multiplies it by the weight. If the weight is 2, then the neural network will double the input. If the weight is 0.01, then the network will divide the input by 100. Some weight values make the input bigger, and other values make it smaller."
   ]
  },
  {
   "cell_type": "code",
   "execution_count": 3,
   "id": "23cc2986",
   "metadata": {},
   "outputs": [],
   "source": [
    "weight = 0.5\n",
    "scores = [2.5,2.2,3,1.5]\n",
    "def neural_network(inp, weight):\n",
    "    prediction = inp * weight # multiplying input and weight\n",
    "    return prediction"
   ]
  },
  {
   "cell_type": "code",
   "execution_count": 6,
   "id": "8e3bba3f",
   "metadata": {},
   "outputs": [
    {
     "name": "stdout",
     "output_type": "stream",
     "text": [
      "Predicted value is -> 1.25\n"
     ]
    }
   ],
   "source": [
    "print(\"Predicted value is ->\",neural_network(scores[0], weight))"
   ]
  },
  {
   "cell_type": "markdown",
   "id": "7dc46957",
   "metadata": {},
   "source": [
    "A way to think about a neural network’s weight value is as a measure of sensitivity\n",
    "between the input of the network and its prediction. If the weight is very high, then even the\n",
    "tiniest input can create a really large prediction! If the weight is very small, then even large\n",
    "inputs will make small predictions."
   ]
  },
  {
   "cell_type": "markdown",
   "id": "574e9a45",
   "metadata": {},
   "source": [
    "# Making a prediction with multiple inputs"
   ]
  },
  {
   "cell_type": "code",
   "execution_count": 7,
   "id": "8bf174ad",
   "metadata": {},
   "outputs": [],
   "source": [
    "toes = [8.5, 9.5, 9.9, 9.0]\n",
    "wlrec = [0.65, 0.8, 0.8, 0.9]\n",
    "nfans = [1.2, 1.3, 0.5, 1.0]\n",
    "\n",
    "weights = [0.1, 0.2, 0] \n",
    "inp = [toes[0], wlrec[0], nfans[0]]"
   ]
  },
  {
   "cell_type": "code",
   "execution_count": null,
   "id": "4e5b6b01",
   "metadata": {},
   "outputs": [],
   "source": [
    "def weighted_sum"
   ]
  }
 ],
 "metadata": {
  "kernelspec": {
   "display_name": "Python 3 (ipykernel)",
   "language": "python",
   "name": "python3"
  },
  "language_info": {
   "codemirror_mode": {
    "name": "ipython",
    "version": 3
   },
   "file_extension": ".py",
   "mimetype": "text/x-python",
   "name": "python",
   "nbconvert_exporter": "python",
   "pygments_lexer": "ipython3",
   "version": "3.11.5"
  }
 },
 "nbformat": 4,
 "nbformat_minor": 5
}
