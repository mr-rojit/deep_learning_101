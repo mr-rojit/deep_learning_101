{
 "cells": [
  {
   "cell_type": "code",
   "execution_count": 12,
   "id": "78ab6922",
   "metadata": {},
   "outputs": [],
   "source": [
    "import numpy as np"
   ]
  },
  {
   "cell_type": "markdown",
   "id": "3f78c474",
   "metadata": {},
   "source": [
    " ## <center>predict, compare and learn</center>"
   ]
  },
  {
   "cell_type": "markdown",
   "id": "dc83fdec",
   "metadata": {},
   "source": [
    "Let start with a single neuron and weight. And ofcourse no learning right now.<br>\n",
    "<img src=\"1_images/single_neuron.jpg\" />"
   ]
  },
  {
   "cell_type": "markdown",
   "id": "bb4d6d66",
   "metadata": {},
   "source": [
    "A neural network, in its simplest form, uses the power of multiplication. It takes an input datapoint and multiplies it by the weight. If the weight is 2, then the neural network will double the input. If the weight is 0.01, then the network will divide the input by 100. Some weight values make the input bigger, and other values make it smaller."
   ]
  },
  {
   "cell_type": "code",
   "execution_count": 3,
   "id": "23cc2986",
   "metadata": {},
   "outputs": [],
   "source": [
    "weight = 0.5\n",
    "scores = [2.5,2.2,3,1.5]\n",
    "def neural_network(inp, weight):\n",
    "    prediction = inp * weight # multiplying input and weight\n",
    "    return prediction"
   ]
  },
  {
   "cell_type": "code",
   "execution_count": 4,
   "id": "8e3bba3f",
   "metadata": {},
   "outputs": [
    {
     "name": "stdout",
     "output_type": "stream",
     "text": [
      "Predicted value is -> 1.25\n"
     ]
    }
   ],
   "source": [
    "print(\"Predicted value is ->\",neural_network(scores[0], weight))"
   ]
  },
  {
   "cell_type": "markdown",
   "id": "7dc46957",
   "metadata": {},
   "source": [
    "A way to think about a neural network’s weight value is as a measure of sensitivity\n",
    "between the input of the network and its prediction. If the weight is very high, then even the\n",
    "tiniest input can create a really large prediction! If the weight is very small, then even large\n",
    "inputs will make small predictions."
   ]
  },
  {
   "cell_type": "markdown",
   "id": "574e9a45",
   "metadata": {},
   "source": [
    "# Multiple inputs, single output: 3x1"
   ]
  },
  {
   "cell_type": "code",
   "execution_count": 5,
   "id": "8bf174ad",
   "metadata": {},
   "outputs": [],
   "source": [
    "inp1 = [8.5, 9.5, 9.9, 9.0]\n",
    "inp2 = [0.65, 0.8, 0.8, 0.9]\n",
    "inp3 = [1.2, 1.3, 0.5, 1.0]\n",
    "\n",
    "weights = [0.1, 0.2, 0] \n",
    "inp = [inp1[0], inp2[0], inp3[0]]"
   ]
  },
  {
   "cell_type": "code",
   "execution_count": 8,
   "id": "4e5b6b01",
   "metadata": {},
   "outputs": [],
   "source": [
    "def weighted_sum(inp, w):\n",
    "    w_sum = 0\n",
    "    for i in range(len(inp)):\n",
    "        w_sum += inp[i]*w[i]\n",
    "    return w_sum\n",
    "\n",
    "def neural_network():\n",
    "    return weighted_sum(inp, weights) \n",
    "        "
   ]
  },
  {
   "cell_type": "code",
   "execution_count": 9,
   "id": "6e4df40f",
   "metadata": {},
   "outputs": [
    {
     "data": {
      "text/plain": [
       "0.9800000000000001"
      ]
     },
     "execution_count": 9,
     "metadata": {},
     "output_type": "execute_result"
    }
   ],
   "source": [
    "neural_network()"
   ]
  },
  {
   "cell_type": "markdown",
   "id": "d01a957d",
   "metadata": {},
   "source": [
    "# Multiple inputs and multiple outputs: 3x3"
   ]
  },
  {
   "cell_type": "code",
   "execution_count": 17,
   "id": "66e5b483",
   "metadata": {},
   "outputs": [],
   "source": [
    "# we have 3x3 nodes so 9 weights\n",
    "weights = [[0.1, 0.1, -0.3], # works as w11, w21, w31\n",
    "             [0.1, 0.2, 0.0],\n",
    "             [0.0, 1.3, 0.1]]\n",
    "inps = [8.5, 0.65, 1.2]"
   ]
  },
  {
   "cell_type": "code",
   "execution_count": 19,
   "id": "d002ad4c",
   "metadata": {},
   "outputs": [
    {
     "data": {
      "text/plain": [
       "[0.555, 0.9800000000000001, 0.9650000000000001]"
      ]
     },
     "execution_count": 19,
     "metadata": {},
     "output_type": "execute_result"
    }
   ],
   "source": [
    "def weighted_sum(inp, w):\n",
    "    w_sum = 0\n",
    "    for i in range(len(inp)):\n",
    "        w_sum += inp[i]*w[i]\n",
    "    return w_sum\n",
    "\n",
    "\n",
    "def vec_matmul(vec, mat):\n",
    "    op = []\n",
    "    for i in range(len(vec)):\n",
    "        op.append(weighted_sum(vec, mat[i]))\n",
    "    return op\n",
    "\n",
    "\n",
    "def NN():\n",
    "    return vec_matmul(inps, weights)\n",
    "\n",
    "NN() "
   ]
  },
  {
   "cell_type": "markdown",
   "id": "82666011",
   "metadata": {},
   "source": [
    "# Multiple inputs and multiple outputs: 3x3x3"
   ]
  },
  {
   "cell_type": "code",
   "execution_count": 36,
   "id": "6e77d9c8",
   "metadata": {},
   "outputs": [],
   "source": [
    "ih_wgt = np.array([\n",
    " [0.1, 0.2, -0.1], # hid[0]\n",
    " [-0.1,0.1, 0.9], # hid[1]\n",
    " [0.1, 0.4, 0.1]]).T # hid[2]\n",
    "\n",
    "hp_wgt = np.array([\n",
    " [0.3, 1.1, -0.3],\n",
    " [0.1, 0.2, 0.0],\n",
    " [0.0, 1.3, 0.1]]).T\n",
    "\n",
    "inps = [8.5, 0.65, 1.2]"
   ]
  },
  {
   "cell_type": "code",
   "execution_count": 37,
   "id": "4c65c155",
   "metadata": {},
   "outputs": [
    {
     "data": {
      "text/plain": [
       "[0.49600000000000005, 1.2560000000000002, -0.28600000000000003]"
      ]
     },
     "execution_count": 37,
     "metadata": {},
     "output_type": "execute_result"
    }
   ],
   "source": [
    "def NN():\n",
    "    hid_pred = vec_matmul(inps, ih_wgt)\n",
    "    return vec_matmul(hid_pred, hp_wgt)\n",
    "NN()"
   ]
  },
  {
   "cell_type": "code",
   "execution_count": null,
   "id": "2b5e1b4e",
   "metadata": {},
   "outputs": [],
   "source": [
    "\n"
   ]
  }
 ],
 "metadata": {
  "kernelspec": {
   "display_name": "Python 3 (ipykernel)",
   "language": "python",
   "name": "python3"
  },
  "language_info": {
   "codemirror_mode": {
    "name": "ipython",
    "version": 3
   },
   "file_extension": ".py",
   "mimetype": "text/x-python",
   "name": "python",
   "nbconvert_exporter": "python",
   "pygments_lexer": "ipython3",
   "version": "3.11.5"
  }
 },
 "nbformat": 4,
 "nbformat_minor": 5
}
