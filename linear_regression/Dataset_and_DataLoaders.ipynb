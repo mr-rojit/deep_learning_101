{
 "cells": [
  {
   "cell_type": "code",
   "execution_count": 10,
   "id": "54fd6cdd-b3f1-4dff-9a35-30bdf257775e",
   "metadata": {},
   "outputs": [],
   "source": [
    "import numpy as np\n",
    "import torch\n",
    "from torch import nn as nn\n",
    "from torch import optim as optim\n",
    "\n",
    "from torch.utils.data import Dataset, DataLoader, TensorDataset\n",
    "import matplotlib.pyplot as plt\n",
    "\n",
    "from sklearn.datasets import make_regression\n",
    "from sklearn.model_selection import train_test_split"
   ]
  },
  {
   "cell_type": "code",
   "execution_count": 13,
   "id": "613eebd1-322c-42c3-be2a-e47e8685fffb",
   "metadata": {},
   "outputs": [
    {
     "data": {
      "text/plain": [
       "<matplotlib.collections.PathCollection at 0x7e27a0bf3b90>"
      ]
     },
     "execution_count": 13,
     "metadata": {},
     "output_type": "execute_result"
    },
    {
     "data": {
      "image/png": "[encoded data removed]",
      "text/plain": [
       "<Figure size 640x480 with 1 Axes>"
      ]
     },
     "metadata": {},
     "output_type": "display_data"
    }
   ],
   "source": [
    "X, y = make_regression(n_features=1, noise=15)\n",
    "plt.scatter(X,y)"
   ]
  },
  {
   "cell_type": "code",
   "execution_count": 14,
   "id": "c2c5cb73-4fd6-43b4-84f3-70604184e73d",
   "metadata": {},
   "outputs": [],
   "source": [
    "X_train, X_test, y_train, y_test = train_test_split(X, y, test_size=0.25, random_state=42)"
   ]
  },
  {
   "cell_type": "code",
   "execution_count": 15,
   "id": "be5dd3e5-a99a-40e6-8b56-be1f3316ca8c",
   "metadata": {},
   "outputs": [],
   "source": [
    "X_train = torch.tensor(X_train)\n",
    "X_test = torch.tensor(X_test)\n",
    "y_train = torch.tensor(y_train)\n",
    "y_test = torch.tensor(y_test)\n",
    "\n",
    "y_train = y_train.reshape(-1,1)"
   ]
  },
  {
   "cell_type": "code",
   "execution_count": 16,
   "id": "f16a0d2e-3002-4f78-a980-de289dcaa824",
   "metadata": {},
   "outputs": [],
   "source": [
    "class MyDataset(Dataset):\n",
    "    def __init__(self, X, y):\n",
    "        self.X = X\n",
    "        self.y = y\n",
    "\n",
    "    def __getitem__(self, idx):\n",
    "        return self.X[idx], self.y[idx]\n",
    "\n",
    "    def __len__(self):\n",
    "        return len(self.X)\n",
    "\n",
    "\n",
    "training_data = MyDataset(X_train, y_train)"
   ]
  },
  {
   "cell_type": "code",
   "execution_count": 17,
   "id": "2441b4f8-96c3-4555-b6e8-15774a1044f3",
   "metadata": {},
   "outputs": [
    {
     "data": {
      "text/plain": [
       "[tensor([[-0.2796],\n",
       "         [-0.3392],\n",
       "         [-0.9279],\n",
       "         [ 0.5704],\n",
       "         [ 1.1939],\n",
       "         [ 0.9694],\n",
       "         [-2.4195],\n",
       "         [-1.0306],\n",
       "         [-1.0473],\n",
       "         [-0.6130],\n",
       "         [ 0.2037],\n",
       "         [-0.3745],\n",
       "         [ 0.2123],\n",
       "         [-0.5553],\n",
       "         [-1.2706],\n",
       "         [ 0.1338],\n",
       "         [ 0.5328],\n",
       "         [ 0.6311],\n",
       "         [-0.9994],\n",
       "         [ 0.0215],\n",
       "         [ 0.4219],\n",
       "         [-1.3906],\n",
       "         [-1.2431],\n",
       "         [ 0.1512],\n",
       "         [ 0.2941],\n",
       "         [-0.0584],\n",
       "         [ 0.2175],\n",
       "         [-1.1196],\n",
       "         [ 0.7007],\n",
       "         [-0.7764],\n",
       "         [-0.3983],\n",
       "         [-0.1870]], dtype=torch.float64),\n",
       " tensor([[ -12.0257],\n",
       "         [ -22.6302],\n",
       "         [ -49.6902],\n",
       "         [  33.8276],\n",
       "         [  80.7400],\n",
       "         [  47.0963],\n",
       "         [-138.8347],\n",
       "         [ -79.1232],\n",
       "         [ -50.9053],\n",
       "         [ -45.4351],\n",
       "         [  18.0274],\n",
       "         [ -14.2066],\n",
       "         [  44.8994],\n",
       "         [ -38.5787],\n",
       "         [ -84.8360],\n",
       "         [  31.3884],\n",
       "         [  24.1855],\n",
       "         [  40.6737],\n",
       "         [ -41.9159],\n",
       "         [  37.6339],\n",
       "         [   0.6613],\n",
       "         [ -65.8528],\n",
       "         [ -58.1408],\n",
       "         [  -1.2688],\n",
       "         [  14.1488],\n",
       "         [   2.2999],\n",
       "         [   8.4402],\n",
       "         [ -45.6462],\n",
       "         [  58.1223],\n",
       "         [ -13.7066],\n",
       "         [ -24.3519],\n",
       "         [ -29.5575]], dtype=torch.float64)]"
      ]
     },
     "execution_count": 17,
     "metadata": {},
     "output_type": "execute_result"
    }
   ],
   "source": [
    "data_loader = DataLoader(dataset=training_data, batch_size=32, shuffle=True)\n",
    "next(iter(data_loader))"
   ]
  },
  {
   "cell_type": "code",
   "execution_count": 18,
   "id": "40aa570b-06b3-4c8d-b53c-1ab3002aa83a",
   "metadata": {},
   "outputs": [],
   "source": [
    "\n",
    "class MyModel(nn.Module):\n",
    "\n",
    "    def __init__(self):\n",
    "        super().__init__()\n",
    "        self.fc = nn.Linear(1,1)\n",
    "        self.double()\n",
    "\n",
    "    def forward(self, X):\n",
    "        return self.fc(X)\n",
    "\n",
    "EPOCHS = 200\n",
    "\n",
    "lr = 0.1\n",
    "\n",
    "model = MyModel()\n",
    "\n",
    "optimizer = optim.SGD(model.parameters(), lr=lr)\n",
    "\n",
    "mse = nn.MSELoss()\n",
    "\n",
    "losses = []\n",
    "\n",
    "for i in range(EPOCHS):\n",
    "\n",
    "    for X_mini, y_mini in data_loader:\n",
    "    \n",
    "        y_pred = model(X_mini)\n",
    "    \n",
    "        loss = mse(y_pred, y_mini)\n",
    "    \n",
    "        loss.backward()\n",
    "    \n",
    "        optimizer.step()\n",
    "    \n",
    "        optimizer.zero_grad()"
   ]
  },
  {
   "cell_type": "code",
   "execution_count": 19,
   "id": "a52134e8-9406-4bba-a20c-c5ee28220c81",
   "metadata": {},
   "outputs": [
    {
     "data": {
      "text/plain": [
       "<matplotlib.collections.PathCollection at 0x7e27a0105220>"
      ]
     },
     "execution_count": 19,
     "metadata": {},
     "output_type": "execute_result"
    },
    {
     "data": {
      "image/png": "[encoded data removed]",
      "text/plain": [
       "<Figure size 640x480 with 1 Axes>"
      ]
     },
     "metadata": {},
     "output_type": "display_data"
    }
   ],
   "source": [
    "n_pred = model(X_train)\n",
    "plt.scatter(X_train, y_train)\n",
    "plt.scatter(X_train, n_pred.detach().numpy())\n"
   ]
  },
  {
   "cell_type": "code",
   "execution_count": null,
   "id": "703c9295-82ca-41fc-a83f-5e9fecef9522",
   "metadata": {},
   "outputs": [],
   "source": []
  },
  {
   "cell_type": "code",
   "execution_count": null,
   "id": "87f29f6a-956f-49fa-91ac-58a273845089",
   "metadata": {},
   "outputs": [],
   "source": []
  }
 ],
 "metadata": {
  "kernelspec": {
   "display_name": "Python 3 (ipykernel)",
   "language": "python",
   "name": "python3"
  },
  "language_info": {
   "codemirror_mode": {
    "name": "ipython",
    "version": 3
   },
   "file_extension": ".py",
   "mimetype": "text/x-python",
   "name": "python",
   "nbconvert_exporter": "python",
   "pygments_lexer": "ipython3",
   "version": "3.12.3"
  }
 },
 "nbformat": 4,
 "nbformat_minor": 5
}
