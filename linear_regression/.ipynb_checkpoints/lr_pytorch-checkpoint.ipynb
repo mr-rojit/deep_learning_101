{
 "cells": [
  {
   "cell_type": "code",
   "execution_count": 1,
   "id": "accf4fab-d3c1-42a9-9b97-4be997d212ca",
   "metadata": {},
   "outputs": [],
   "source": [
    "import numpy as np\n",
    "import matplotlib.pyplot as plt\n",
    "import torch\n",
    "from torch import nn\n",
    "from torchviz import make_dot\n",
    "from torch.optim import SGD"
   ]
  },
  {
   "cell_type": "code",
   "execution_count": 2,
   "id": "5f53fb1d-98ec-48de-bd0a-0b9e499f5d62",
   "metadata": {},
   "outputs": [],
   "source": [
    "torch.manual_seed(42)\n",
    "N = 20\n",
    "actual_w = 3\n",
    "actual_b = 1\n",
    "X = torch.rand(N,1) * 2\n",
    "e = torch.rand(N, 1) + 0.1\n",
    "y = actual_w * X + actual_b + e"
   ]
  },
  {
   "cell_type": "code",
   "execution_count": 3,
   "id": "f72ccac9-5012-410a-817e-3105644fed5a",
   "metadata": {},
   "outputs": [
    {
     "data": {
      "text/plain": [
       "<matplotlib.collections.PathCollection at 0x7be492d1d970>"
      ]
     },
     "execution_count": 3,
     "metadata": {},
     "output_type": "execute_result"
    },
    {
     "data": {
      "image/png": "[encoded data removed]",
      "text/plain": [
       "<Figure size 640x480 with 1 Axes>"
      ]
     },
     "metadata": {},
     "output_type": "display_data"
    }
   ],
   "source": [
    "plt.scatter(X,y)"
   ]
  },
  {
   "cell_type": "code",
   "execution_count": 4,
   "id": "22c9909c-63a2-4342-9788-7f400d2203af",
   "metadata": {},
   "outputs": [],
   "source": [
    "torch.manual_seed(42)\n",
    "w = torch.rand(1, requires_grad=True)\n",
    "b = torch.rand(1, requires_grad=True)\n",
    "lr = 0.1"
   ]
  },
  {
   "cell_type": "code",
   "execution_count": 5,
   "id": "fe75f2a1-f762-4a66-a9ef-fdaf65174d54",
   "metadata": {},
   "outputs": [],
   "source": [
    "# y_pred = w * X + b\n",
    "# delta = y_pred - y\n",
    "# loss = (delta ** 2).mean()\n",
    "# loss.backward()\n",
    "# with torch.no_grad():\n",
    "#     b -= lr * b.grad\n",
    "#     w -= lr * w.grad\n",
    "\n",
    "#     b.grad.zero_()\n",
    "#     w.grad.zero_() "
   ]
  },
  {
   "cell_type": "code",
   "execution_count": 6,
   "id": "e4a1220c-34a8-4725-961b-311169f02a59",
   "metadata": {},
   "outputs": [
    {
     "data": {
      "text/plain": [
       "(tensor([3.2273], requires_grad=True), tensor([1.2780], requires_grad=True))"
      ]
     },
     "execution_count": 6,
     "metadata": {},
     "output_type": "execute_result"
    }
   ],
   "source": [
    "epochs = 300\n",
    "optimizer = SGD([w, b], lr=lr)\n",
    "mse = nn.MSELoss(reduction='mean') \n",
    "for e in range(epochs):\n",
    "    y_pred = w * X + b\n",
    "    loss = mse(y_pred, y)\n",
    "    loss.backward()\n",
    "    optimizer.step()\n",
    "    optimizer.zero_grad()\n",
    "w, b"
   ]
  },
  {
   "cell_type": "code",
   "execution_count": 7,
   "id": "cc9eff1a-5002-44fd-9af9-b5c3e770a78e",
   "metadata": {},
   "outputs": [],
   "source": [
    "new_pred = w*X +b"
   ]
  },
  {
   "cell_type": "code",
   "execution_count": 8,
   "id": "bfbbc2e1-ebf8-414f-a3d0-be32079d9e77",
   "metadata": {},
   "outputs": [
    {
     "data": {
      "text/plain": [
       "<matplotlib.collections.PathCollection at 0x7be41ada7a10>"
      ]
     },
     "execution_count": 8,
     "metadata": {},
     "output_type": "execute_result"
    },
    {
     "data": {
      "image/png": "[encoded data removed]",
      "text/plain": [
       "<Figure size 640x480 with 1 Axes>"
      ]
     },
     "metadata": {},
     "output_type": "display_data"
    }
   ],
   "source": [
    "plt.scatter(X,y)\n",
    "plt.scatter(X,new_pred.detach().numpy())"
   ]
  },
  {
   "cell_type": "markdown",
   "id": "1eb4c797-fcf4-43e7-be0a-4c8b6fd30eeb",
   "metadata": {},
   "source": [
    "Doing it in pytorch way"
   ]
  },
  {
   "cell_type": "code",
   "execution_count": 49,
   "id": "2261ed08-3aec-4216-8d00-890f73a72191",
   "metadata": {},
   "outputs": [],
   "source": [
    "# class MyLinearRegression(nn.Module):\n",
    "\n",
    "#     def __init__(self):\n",
    "#         super().__init__()\n",
    "#         self.w = nn.Parameter(torch.rand(1, requires_grad=True))\n",
    "#         self.b = nn.Parameter(torch.rand(1, requires_grad=True))\n",
    "\n",
    "\n",
    "#     def forward(self, x):\n",
    "#         reg = self.w * x + b\n",
    "#         return reg\n",
    "\n",
    "# model = MyLinearRegression()\n",
    "\n",
    "# epochs = 300\n",
    "# optimizer = SGD(model.parameters(), lr=lr)\n",
    "# mse = nn.MSELoss(reduction='mean')\n",
    "\n",
    "# epochs = 300\n",
    "# for epoch in range(epochs):\n",
    "#     y_pred = model(X)\n",
    "#     loss = mse(y_pred, y)\n",
    "#     loss.backward()\n",
    "\n",
    "#     optimizer.step()\n",
    "#     optimizer.zero_grad()\n",
    "\n",
    "# model.state_dict()\n",
    "    "
   ]
  },
  {
   "cell_type": "code",
   "execution_count": 78,
   "id": "08fd2a29-468f-4bcf-9512-20c42b88a3d1",
   "metadata": {},
   "outputs": [
    {
     "data": {
      "text/plain": [
       "OrderedDict([('linear.weight', tensor([[3.2290]])),\n",
       "             ('linear.bias', tensor([1.2756]))])"
      ]
     },
     "execution_count": 78,
     "metadata": {},
     "output_type": "execute_result"
    }
   ],
   "source": [
    "class MyLinearRegression(nn.Module):\n",
    "\n",
    "    def __init__(self):\n",
    "        super().__init__()\n",
    "        self.linear = nn.Linear(1,1)\n",
    "        # self.linear1 = nn.Linear(3,3)\n",
    "        \n",
    "\n",
    "    def forward(self, x):\n",
    "        return self.linear(x)\n",
    "\n",
    "model = MyLinearRegression()\n",
    "\n",
    "epochs = 300\n",
    "optimizer = SGD(model.parameters(), lr=lr)\n",
    "mse = nn.MSELoss(reduction='mean')\n",
    "\n",
    "epochs = 300\n",
    "for epoch in range(epochs):\n",
    "    y_pred = model(X)\n",
    "    loss = mse(y_pred, y)\n",
    "    loss.backward()\n",
    "\n",
    "    optimizer.step()\n",
    "    optimizer.zero_grad()\n",
    "\n",
    "model.state_dict()\n"
   ]
  },
  {
   "cell_type": "code",
   "execution_count": null,
   "id": "5a6bbbc7-33a6-4768-b0c4-61e2bad504f2",
   "metadata": {},
   "outputs": [],
   "source": []
  },
  {
   "cell_type": "code",
   "execution_count": null,
   "id": "902837ba-de12-425e-bdd7-a49e9d410c6f",
   "metadata": {},
   "outputs": [],
   "source": []
  }
 ],
 "metadata": {
  "kernelspec": {
   "display_name": "Python 3 (ipykernel)",
   "language": "python",
   "name": "python3"
  },
  "language_info": {
   "codemirror_mode": {
    "name": "ipython",
    "version": 3
   },
   "file_extension": ".py",
   "mimetype": "text/x-python",
   "name": "python",
   "nbconvert_exporter": "python",
   "pygments_lexer": "ipython3",
   "version": "3.12.3"
  }
 },
 "nbformat": 4,
 "nbformat_minor": 5
}
