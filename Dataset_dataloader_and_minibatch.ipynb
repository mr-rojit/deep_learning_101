{
  "nbformat": 4,
  "nbformat_minor": 0,
  "metadata": {
    "colab": {
      "provenance": [],
      "gpuType": "T4"
    },
    "kernelspec": {
      "name": "python3",
      "display_name": "Python 3"
    },
    "language_info": {
      "name": "python"
    },
    "accelerator": "GPU"
  },
  "cells": [
    {
      "cell_type": "code",
      "execution_count": 1,
      "metadata": {
        "id": "GmhbOgM71rPf"
      },
      "outputs": [],
      "source": [
        "import numpy as np\n",
        "import matplotlib.pyplot as plt\n",
        "import torch\n",
        "import torch.nn as nn\n",
        "import torch.optim as optim\n",
        "\n",
        "from torch.utils.data import Dataset, DataLoader, TensorDataset\n",
        "from torch.utils.data.dataset import random_split\n",
        "\n",
        "from sklearn.datasets import make_regression\n"
      ]
    },
    {
      "cell_type": "code",
      "source": [
        "device = torch.device(\"cuda\" if torch.cuda.is_available() else \"cpu\")"
      ],
      "metadata": {
        "id": "_9loIieUUVPP"
      },
      "execution_count": 2,
      "outputs": []
    },
    {
      "cell_type": "code",
      "source": [
        "np.random.seed(42)\n",
        "X, y = make_regression(n_samples=300, n_features=1, bias=3, n_informative=1, noise=10)\n",
        "y = y.reshape(-1,1)\n",
        "X.shape, y.shape"
      ],
      "metadata": {
        "colab": {
          "base_uri": "https://localhost:8080/"
        },
        "id": "TzeJrHh621X0",
        "outputId": "4f37c653-9f87-4ced-d129-69790ff54559"
      },
      "execution_count": 3,
      "outputs": [
        {
          "output_type": "execute_result",
          "data": {
            "text/plain": [
              "((300, 1), (300, 1))"
            ]
          },
          "metadata": {},
          "execution_count": 3
        }
      ]
    },
    {
      "cell_type": "code",
      "source": [
        "plt.scatter(X,y)"
      ],
      "metadata": {
        "colab": {
          "base_uri": "https://localhost:8080/",
          "height": 447
        },
        "id": "qg8nlqg83DXB",
        "outputId": "08fa83c7-c685-445f-948e-a0b088d90e48"
      },
      "execution_count": 4,
      "outputs": [
        {
          "output_type": "execute_result",
          "data": {
            "text/plain": [
              "<matplotlib.collections.PathCollection at 0x78c64fc33a30>"
            ]
          },
          "metadata": {},
          "execution_count": 4
        },
        {
          "output_type": "display_data",
          "data": {
            "text/plain": [
              "<Figure size 640x480 with 1 Axes>"
            ],
            "image/png": "[encoded data removed]"
          },
          "metadata": {}
        }
      ]
    },
    {
      "cell_type": "code",
      "source": [
        "# converting ndarray to torch tensor\n",
        "X = torch.as_tensor(X, dtype=torch.float)\n",
        "y = torch.as_tensor(y, dtype=torch.float)\n",
        "X.dtype, y.dtype"
      ],
      "metadata": {
        "colab": {
          "base_uri": "https://localhost:8080/"
        },
        "id": "pgoNycN84I12",
        "outputId": "ad1bf0eb-9cb6-496d-9745-82897962cd68"
      },
      "execution_count": 5,
      "outputs": [
        {
          "output_type": "execute_result",
          "data": {
            "text/plain": [
              "(torch.float32, torch.float32)"
            ]
          },
          "metadata": {},
          "execution_count": 5
        }
      ]
    },
    {
      "cell_type": "markdown",
      "source": [
        "## Creating Dataset from X and y"
      ],
      "metadata": {
        "id": "XBh9na22H0Uh"
      }
    },
    {
      "cell_type": "code",
      "source": [
        "dataset = TensorDataset(X,y)"
      ],
      "metadata": {
        "id": "LpdHaoENIuWV"
      },
      "execution_count": 6,
      "outputs": []
    },
    {
      "cell_type": "markdown",
      "source": [
        "## Pytorch random split to split our data to train and test"
      ],
      "metadata": {
        "id": "XnEegtn3IP-p"
      }
    },
    {
      "cell_type": "code",
      "source": [
        "total_observation = len(X)\n",
        "N_train = int(0.7 * total_observation) # 70% training\n",
        "N_val = total_observation -  N_train\n",
        "train_data, val_data = random_split(dataset, [N_train, N_val])\n",
        "len(train_data), len(val_data)"
      ],
      "metadata": {
        "colab": {
          "base_uri": "https://localhost:8080/"
        },
        "id": "lDFBT8PDIPgb",
        "outputId": "0c335dd0-7aab-457f-c8f6-f0f9b2658644"
      },
      "execution_count": 7,
      "outputs": [
        {
          "output_type": "execute_result",
          "data": {
            "text/plain": [
              "(210, 90)"
            ]
          },
          "metadata": {},
          "execution_count": 7
        }
      ]
    },
    {
      "cell_type": "code",
      "source": [
        "train_loader = DataLoader(train_data, batch_size=8, shuffle=True)\n",
        "val_loader = DataLoader(val_data, batch_size=8, shuffle=True)"
      ],
      "metadata": {
        "id": "qFmbqkn1LO9o"
      },
      "execution_count": 8,
      "outputs": []
    },
    {
      "cell_type": "code",
      "source": [
        "# creating Linear model\n",
        "\n",
        "class LinearModel(nn.Module):\n",
        "\n",
        "  def __init__(self):\n",
        "    super().__init__()\n",
        "    self.fc = nn.Linear(1,1)\n",
        "\n",
        "  def forward(self, X):\n",
        "    return self.fc(X)"
      ],
      "metadata": {
        "id": "BMOWjSjJ6pd7"
      },
      "execution_count": 9,
      "outputs": []
    },
    {
      "cell_type": "code",
      "source": [
        "def make_train_step_fn(model, loss_fn, optimizer):\n",
        "\n",
        "  def train(X, y):\n",
        "    model.train()\n",
        "    y_pred = model(X)\n",
        "    loss = loss_fn(y_pred, y)\n",
        "    loss.backward()\n",
        "    optimizer.step()\n",
        "    optimizer.zero_grad()\n",
        "    return loss.item()\n",
        "\n",
        "  return train\n",
        "\n",
        "\n",
        "def make_val_step_fn(model, loss_fn):\n",
        "\n",
        "  def validate(X, y):\n",
        "    model.eval()\n",
        "\n",
        "    y_pred = model(X)\n",
        "    loss= loss_fn(y_pred, y)\n",
        "    return loss.item()\n",
        "\n",
        "  return validate\n",
        "\n",
        "\n",
        "def mini_batch_step(device, loader, step_fn):\n",
        "  mini_batch_losses = []\n",
        "  for mini_batch_x, mini_batch_y in loader:\n",
        "    mini_batch_x =  mini_batch_x.to(device)\n",
        "    mini_batch_y =  mini_batch_y.to(device)\n",
        "\n",
        "    mini_batch_loss = step_fn(mini_batch_x, mini_batch_y)\n",
        "    mini_batch_losses.append(mini_batch_loss)\n",
        "  return np.mean(mini_batch_losses)\n",
        "\n",
        "\n"
      ],
      "metadata": {
        "id": "zqXTkYE_9U4P"
      },
      "execution_count": 27,
      "outputs": []
    },
    {
      "cell_type": "code",
      "source": [
        "epochs = 100\n",
        "lr = 0.01\n",
        "model = LinearModel()\n",
        "model = model.to(device)\n",
        "optimizer = optim.SGD(model.parameters(), lr=lr)\n",
        "loss_fn = nn.MSELoss()\n",
        "\n",
        "train = make_train_step_fn(model, loss_fn, optimizer)\n",
        "validate = make_val_step_fn(model, loss_fn)\n",
        "\n",
        "losses = []\n",
        "val_losses = []\n",
        "\n",
        "for _ in range(epochs):\n",
        "  train_loss = mini_batch_step(device, train_loader, train)\n",
        "  losses.append(train_loss)\n",
        "  with torch.no_grad():\n",
        "    val_loss = mini_batch_step(device, val_loader, validate)\n",
        "    val_losses.append(val_loss)"
      ],
      "metadata": {
        "id": "ep4ORtpz4mp1"
      },
      "execution_count": 30,
      "outputs": []
    },
    {
      "cell_type": "code",
      "source": [
        "model.state_dict()"
      ],
      "metadata": {
        "colab": {
          "base_uri": "https://localhost:8080/"
        },
        "id": "VTPUtE2D_BN_",
        "outputId": "c539c778-b376-48c8-8aa7-e61478d4bab0"
      },
      "execution_count": 29,
      "outputs": [
        {
          "output_type": "execute_result",
          "data": {
            "text/plain": [
              "OrderedDict([('fc.weight', tensor([[28.3748]], device='cuda:0')),\n",
              "             ('fc.bias', tensor([2.5669], device='cuda:0'))])"
            ]
          },
          "metadata": {},
          "execution_count": 29
        }
      ]
    },
    {
      "cell_type": "code",
      "source": [
        "plt.plot(range(100), losses)\n",
        "plt.plot(range(100), val_losses)\n"
      ],
      "metadata": {
        "colab": {
          "base_uri": "https://localhost:8080/",
          "height": 447
        },
        "id": "-kVHD_f1TXiZ",
        "outputId": "2cedde9d-8f1a-4a20-d48d-5198bab2bd3e"
      },
      "execution_count": 36,
      "outputs": [
        {
          "output_type": "execute_result",
          "data": {
            "text/plain": [
              "[<matplotlib.lines.Line2D at 0x78c62051b6a0>]"
            ]
          },
          "metadata": {},
          "execution_count": 36
        },
        {
          "output_type": "display_data",
          "data": {
            "text/plain": [
              "<Figure size 640x480 with 1 Axes>"
            ],
            "image/png": "[encoded data removed]"
          },
          "metadata": {}
        }
      ]
    },
    {
      "cell_type": "code",
      "source": [],
      "metadata": {
        "id": "6EqXlfenlLIG"
      },
      "execution_count": null,
      "outputs": []
    }
  ]
}