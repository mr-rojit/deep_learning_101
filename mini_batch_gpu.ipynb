{
  "nbformat": 4,
  "nbformat_minor": 0,
  "metadata": {
    "colab": {
      "provenance": [],
      "gpuType": "T4",
      "authorship_tag": "ABX9TyM9PWes7XQ4j1n0LqtcRtaA"
    },
    "kernelspec": {
      "name": "python3",
      "display_name": "Python 3"
    },
    "language_info": {
      "name": "python"
    },
    "accelerator": "GPU"
  },
  "cells": [
    {
      "cell_type": "code",
      "execution_count": 1,
      "metadata": {
        "id": "x7v1CuzW38oj"
      },
      "outputs": [],
      "source": [
        "import torch\n",
        "import torch.nn as nn\n",
        "import torch.optim as optim\n",
        "import numpy as np\n",
        "import matplotlib.pyplot as plt\n",
        "from torch.utils.data import TensorDataset, DataLoader, random_split\n",
        "from sklearn.datasets import make_regression"
      ]
    },
    {
      "cell_type": "code",
      "source": [
        "# config device\n",
        "device = 'cuda' if torch.cuda.is_available() else 'cpu'"
      ],
      "metadata": {
        "id": "gW0uOOdEX1jj"
      },
      "execution_count": 2,
      "outputs": []
    },
    {
      "cell_type": "code",
      "source": [
        "X, y = make_regression(n_samples=200, n_features=1, noise=20, random_state=42)\n",
        "y = y.reshape(-1,1)"
      ],
      "metadata": {
        "id": "DYdov1jW6mCT"
      },
      "execution_count": 3,
      "outputs": []
    },
    {
      "cell_type": "code",
      "source": [
        "plt.scatter(X, y)"
      ],
      "metadata": {
        "colab": {
          "base_uri": "https://localhost:8080/",
          "height": 448
        },
        "id": "ngOhJwPkLW3P",
        "outputId": "73ffb47f-9a1b-468d-ca6d-6e9476cbe52a"
      },
      "execution_count": 4,
      "outputs": [
        {
          "output_type": "execute_result",
          "data": {
            "text/plain": [
              "<matplotlib.collections.PathCollection at 0x79866936d540>"
            ]
          },
          "metadata": {},
          "execution_count": 4
        },
        {
          "output_type": "display_data",
          "data": {
            "text/plain": [
              "<Figure size 640x480 with 1 Axes>"
            ],
            "image/png": "[encoded data removed]"
          },
          "metadata": {}
        }
      ]
    },
    {
      "cell_type": "code",
      "source": [
        "X = torch.as_tensor(X, dtype=torch.float, device=device)\n",
        "y = torch.as_tensor(y, dtype=torch.float, device=device)"
      ],
      "metadata": {
        "id": "dl61xd9JOswf"
      },
      "execution_count": 5,
      "outputs": []
    },
    {
      "cell_type": "code",
      "source": [
        "# preparing dataset and random split\n",
        "dataset = TensorDataset(X, y)\n",
        "\n",
        "num_train = int(len(dataset) * 0.75)\n",
        "num_val = len(dataset) - num_train\n",
        "train_data, val_data = random_split(dataset, [num_train, num_val])\n"
      ],
      "metadata": {
        "id": "nKGQ-StfYQzs"
      },
      "execution_count": 6,
      "outputs": []
    },
    {
      "cell_type": "code",
      "source": [
        "# creating dataloader from train and val data\n",
        "train_loader = DataLoader(train_data, batch_size=16, shuffle=True)\n",
        "val_loader = DataLoader(val_data, batch_size=16)"
      ],
      "metadata": {
        "id": "MnOiNyNvZFB2"
      },
      "execution_count": 7,
      "outputs": []
    },
    {
      "cell_type": "code",
      "source": [
        "class LinearModel(nn.Module):\n",
        "\n",
        "  def __init__(self):\n",
        "    super().__init__()\n",
        "    self.fc = nn.Linear(1,1)\n",
        "\n",
        "  def forward(self, X):\n",
        "    return self.fc(X)\n"
      ],
      "metadata": {
        "id": "VAKPZQWrOAI7"
      },
      "execution_count": 8,
      "outputs": []
    },
    {
      "cell_type": "code",
      "source": [
        "model = LinearModel()\n",
        "model = model.to(device)\n",
        "loss_fn = nn.MSELoss()\n",
        "optimizer = optim.SGD(model.parameters(), lr=0.1)"
      ],
      "metadata": {
        "id": "ZpBBogFdOMbF"
      },
      "execution_count": 14,
      "outputs": []
    },
    {
      "cell_type": "code",
      "source": [
        "def training_function(model, loss_fn, optimizer):\n",
        "\n",
        "  def perform_train(X, y):\n",
        "\n",
        "    pred = model(X)\n",
        "\n",
        "    loss = loss_fn(pred, y)\n",
        "\n",
        "    loss.backward()\n",
        "\n",
        "    optimizer.step()\n",
        "\n",
        "    optimizer.zero_grad()\n",
        "\n",
        "    return loss.item()\n",
        "\n",
        "  return perform_train\n",
        "\n",
        "\n",
        "def validation_function(model, loss):\n",
        "\n",
        "  def perform_validation(X, y):\n",
        "    model.eval()\n",
        "\n",
        "    pred = model(X)\n",
        "\n",
        "    loss = loss_fn(pred, y)\n",
        "\n",
        "    return loss.item()\n",
        "\n",
        "  return perform_validation\n",
        "\n",
        "\n",
        "def mini_batch(device, dataloader, step_fn):\n",
        "  mini_batch_losses = []\n",
        "  for x, y in dataloader:\n",
        "    x = x.to(device)\n",
        "    y = y.to(device)\n",
        "\n",
        "    mini_bath_loss = step_fn(x,y)\n",
        "    mini_batch_losses.append(mini_bath_loss)\n",
        "  return np.mean(mini_batch_losses)\n",
        "\n",
        "\n"
      ],
      "metadata": {
        "id": "c6pInyFGzPy1"
      },
      "execution_count": 10,
      "outputs": []
    },
    {
      "cell_type": "code",
      "source": [
        "training_step = training_function(model, loss_fn, optimizer)\n",
        "validation_step = validation_function(model, loss_fn)"
      ],
      "metadata": {
        "id": "sJ5p_UAWVGJ_"
      },
      "execution_count": 11,
      "outputs": []
    },
    {
      "cell_type": "code",
      "source": [
        "losses = []\n",
        "val_losses = []\n",
        "\n",
        "for _ in range(300):\n",
        "  loss = mini_batch(device, train_loader, training_step)\n",
        "  losses.append(loss)\n",
        "\n",
        "\n"
      ],
      "metadata": {
        "id": "t5pZAEl79gyp"
      },
      "execution_count": 12,
      "outputs": []
    },
    {
      "cell_type": "code",
      "source": [],
      "metadata": {
        "id": "TL69eMhZ_Sut"
      },
      "execution_count": null,
      "outputs": []
    }
  ]
}