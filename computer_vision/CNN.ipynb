{
 "cells": [
  {
   "cell_type": "code",
   "execution_count": 21,
   "id": "71ca03e6-04ff-4e12-95f3-a1e66a3fa3fe",
   "metadata": {},
   "outputs": [],
   "source": [
    "import random\n",
    "import numpy as np\n",
    "from PIL import Image\n",
    "import torch\n",
    "import torch.optim as optim\n",
    "import torch.nn as nn\n",
    "import torch.nn.functional as F\n",
    "from torch.utils.data import DataLoader, Dataset\n",
    "# from torchvision.transforms import Compose, Normalize\n"
   ]
  },
  {
   "cell_type": "code",
   "execution_count": 9,
   "id": "08527fea-5106-4304-9d0f-2370263ace13",
   "metadata": {},
   "outputs": [],
   "source": [
    "# kernal"
   ]
  },
  {
   "cell_type": "code",
   "execution_count": 10,
   "id": "c8698f77-f2c9-4055-9f0b-7ddc5df0d638",
   "metadata": {},
   "outputs": [
    {
     "data": {
      "text/plain": [
       "(1, 1, 6, 6)"
      ]
     },
     "execution_count": 10,
     "metadata": {},
     "output_type": "execute_result"
    }
   ],
   "source": [
    "single = np.array(\n",
    "  [[[\n",
    "  [5, 0, 8, 7, 8, 1],\n",
    "  [1, 9, 5, 0, 7, 7],\n",
    "  [6, 0, 2, 4, 6, 6],\n",
    "  [9, 7, 6, 6, 8, 4],\n",
    "  [8, 3, 8, 5, 1, 3],\n",
    "  [7, 2, 7, 0, 1, 0]]]]\n",
    ")\n",
    "single.shape"
   ]
  },
  {
   "cell_type": "code",
   "execution_count": 11,
   "id": "e5efd01c-4077-454f-ae67-ca9ba8382a00",
   "metadata": {},
   "outputs": [
    {
     "data": {
      "text/plain": [
       "(1, 1, 3, 3)"
      ]
     },
     "execution_count": 11,
     "metadata": {},
     "output_type": "execute_result"
    }
   ],
   "source": [
    "identity = np.array(\n",
    "  [[[[0, 0, 0],\n",
    "  [0, 1, 0],\n",
    "  [0, 0, 0]]]]\n",
    ")\n",
    "identity.shape"
   ]
  },
  {
   "cell_type": "code",
   "execution_count": 18,
   "id": "8127b187-7034-4dea-bc32-21a3d1c624c1",
   "metadata": {},
   "outputs": [
    {
     "data": {
      "text/plain": [
       "array([[[[0, 0, 0],\n",
       "         [0, 9, 0],\n",
       "         [0, 0, 0]]]])"
      ]
     },
     "execution_count": 18,
     "metadata": {},
     "output_type": "execute_result"
    }
   ],
   "source": [
    "single[:,:, :3, :3] * identity"
   ]
  },
  {
   "cell_type": "code",
   "execution_count": null,
   "id": "53fc1fcf-2241-4dd0-935b-312f7143aace",
   "metadata": {},
   "outputs": [],
   "source": []
  }
 ],
 "metadata": {
  "kernelspec": {
   "display_name": "Python 3 (ipykernel)",
   "language": "python",
   "name": "python3"
  },
  "language_info": {
   "codemirror_mode": {
    "name": "ipython",
    "version": 3
   },
   "file_extension": ".py",
   "mimetype": "text/x-python",
   "name": "python",
   "nbconvert_exporter": "python",
   "pygments_lexer": "ipython3",
   "version": "3.12.3"
  }
 },
 "nbformat": 4,
 "nbformat_minor": 5
}
