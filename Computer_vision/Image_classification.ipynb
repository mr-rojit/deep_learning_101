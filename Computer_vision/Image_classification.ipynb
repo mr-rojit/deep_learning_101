{
  "nbformat": 4,
  "nbformat_minor": 0,
  "metadata": {
    "colab": {
      "provenance": []
    },
    "kernelspec": {
      "name": "python3",
      "display_name": "Python 3"
    },
    "language_info": {
      "name": "python"
    }
  },
  "cells": [
    {
      "cell_type": "code",
      "execution_count": 1,
      "metadata": {
        "id": "B7awGgXeXuPK"
      },
      "outputs": [],
      "source": [
        "import numpy as np\n",
        "import matplotlib.pyplot as plt\n",
        "\n",
        "import torch\n",
        "import torch.nn as nn\n",
        "import torch.optim as optim\n",
        "import torch.nn.functional as F\n",
        "\n",
        "from sklearn.metrics import accuracy_score, precision_score, recall_score, f1_score\n",
        "\n",
        "from torch.utils.data import DataLoader, Dataset, TensorDataset, random_split\n",
        "from torchvision.datasets import MNIST\n",
        "from torchvision.transforms import Compose, ToTensor"
      ]
    },
    {
      "cell_type": "code",
      "source": [
        "train_dataset = MNIST(root=\"\", download=True, transform=ToTensor())\n",
        "test_dataset = MNIST(root=\"\", download=True, train=False, transform=ToTensor())"
      ],
      "metadata": {
        "id": "GXr7NpFpx7xS"
      },
      "execution_count": 2,
      "outputs": []
    },
    {
      "cell_type": "code",
      "source": [
        "len(train_dataset), len(test_dataset)"
      ],
      "metadata": {
        "id": "fyMGSMctyEWb",
        "colab": {
          "base_uri": "https://localhost:8080/"
        },
        "outputId": "23ef1e76-8f3a-477c-e7fc-c896db5277ee"
      },
      "execution_count": 3,
      "outputs": [
        {
          "output_type": "execute_result",
          "data": {
            "text/plain": [
              "(60000, 10000)"
            ]
          },
          "metadata": {},
          "execution_count": 3
        }
      ]
    },
    {
      "cell_type": "code",
      "source": [
        "train_set, val_set = random_split(train_dataset, [50000, 10000])"
      ],
      "metadata": {
        "id": "PUlrdyJ3iXe6"
      },
      "execution_count": 4,
      "outputs": []
    },
    {
      "cell_type": "code",
      "source": [
        "image_sample, label = train_set[3]\n",
        "plt.imshow(image_sample[0], cmap=\"gray\")\n",
        "plt.title(label)\n",
        "plt.show()"
      ],
      "metadata": {
        "colab": {
          "base_uri": "https://localhost:8080/",
          "height": 472
        },
        "id": "ttdcXk4x7kNV",
        "outputId": "94db3e99-e92f-4f55-bc2f-726f2a090546"
      },
      "execution_count": 5,
      "outputs": [
        {
          "output_type": "display_data",
          "data": {
            "text/plain": [
              "<Figure size 640x480 with 1 Axes>"
            ],
            "image/png": "[encoded data removed]"
          },
          "metadata": {}
        }
      ]
    },
    {
      "cell_type": "code",
      "source": [
        "# creating dataloaders\n",
        "\n",
        "train_loader = DataLoader(train_set,batch_size=64, shuffle=True)\n",
        "val_loader = DataLoader(val_set, batch_size=64)\n",
        "test_loader = DataLoader(test_dataset,batch_size=64)"
      ],
      "metadata": {
        "id": "Zj7_AWHJ9gFD"
      },
      "execution_count": 6,
      "outputs": []
    },
    {
      "cell_type": "code",
      "source": [
        "class MyModel(nn.Module):\n",
        "\n",
        "  def __init__(self):\n",
        "    super().__init__()\n",
        "    self.fc1 = nn.Linear(784, 10)\n",
        "\n",
        "  def forward(self, X):\n",
        "    flatten = nn.Flatten()(X)\n",
        "    x = self.fc1(flatten)\n",
        "    return x\n"
      ],
      "metadata": {
        "id": "j0NvuA32-t3W"
      },
      "execution_count": 7,
      "outputs": []
    },
    {
      "cell_type": "code",
      "source": [
        "EPOCHS = 10\n",
        "\n",
        "\n",
        "model = MyModel()\n",
        "loss_fn = nn.CrossEntropyLoss()\n",
        "optimizer = optim.SGD(model.parameters(), lr=0.01)\n",
        "\n",
        "losses = []\n",
        "val_losses = []\n",
        "\n",
        "for _ in range(EPOCHS):\n",
        "\n",
        "  mini_batch_loss_train = []\n",
        "  mini_batch_loss_val = []\n",
        "\n",
        "  for x_batch, y_batch in train_loader:\n",
        "    model.train()\n",
        "    y_pred = model(x_batch)\n",
        "    loss = loss_fn(y_pred, y_batch)\n",
        "    mini_batch_loss_train.append(loss.item())\n",
        "    optimizer.zero_grad()\n",
        "    loss.backward()\n",
        "    optimizer.step()\n",
        "\n",
        "  losses.append(np.mean(mini_batch_loss_train))\n",
        "\n",
        "  for x_val_batch, y_val_batch in val_loader:\n",
        "\n",
        "    model.eval()\n",
        "\n",
        "    with torch.no_grad():\n",
        "\n",
        "      y_pred = model(x_val_batch)\n",
        "\n",
        "      val_loss = loss_fn(y_pred, y_val_batch)\n",
        "\n",
        "      mini_batch_loss_val.append(val_loss.item())\n",
        "  val_losses.append(np.mean(mini_batch_loss_val))\n",
        ""
      ],
      "metadata": {
        "id": "VEp4weJqlqx1"
      },
      "execution_count": 8,
      "outputs": []
    },
    {
      "cell_type": "code",
      "source": [
        "plt.plot(range(EPOCHS), losses)\n",
        "plt.plot(range(EPOCHS), val_losses)\n"
      ],
      "metadata": {
        "colab": {
          "base_uri": "https://localhost:8080/",
          "height": 467
        },
        "id": "weoeRPFjVYvn",
        "outputId": "4a7521cf-89cf-499a-d7db-daa0ee562aaf"
      },
      "execution_count": 9,
      "outputs": [
        {
          "output_type": "execute_result",
          "data": {
            "text/plain": [
              "[<matplotlib.lines.Line2D at 0x7b7321782530>]"
            ]
          },
          "metadata": {},
          "execution_count": 9
        },
        {
          "output_type": "display_data",
          "data": {
            "text/plain": [
              "<Figure size 640x480 with 1 Axes>"
            ],
            "image/png": "[encoded data removed]"
          },
          "metadata": {}
        }
      ]
    },
    {
      "cell_type": "code",
      "source": [
        "with torch.no_grad():\n",
        "    pred = model(image_sample)\n",
        "    print(pred)\n",
        "    _, predicted = torch.max(pred, 1)"
      ],
      "metadata": {
        "colab": {
          "base_uri": "https://localhost:8080/"
        },
        "id": "kTA0Dzlsmreb",
        "outputId": "0a919b97-4baa-4f3b-9068-6c009f86cb24"
      },
      "execution_count": 10,
      "outputs": [
        {
          "output_type": "stream",
          "name": "stdout",
          "text": [
            "tensor([[-3.4886e+00, -1.1673e-03,  1.0235e+00,  3.1955e+00, -1.4117e+00,\n",
            "         -1.0215e+00, -3.1955e+00,  2.3707e+00,  1.1755e+00,  2.0861e+00]])\n"
          ]
        }
      ]
    },
    {
      "cell_type": "code",
      "source": [
        "predicted"
      ],
      "metadata": {
        "colab": {
          "base_uri": "https://localhost:8080/"
        },
        "id": "IxY-KXGjmx1G",
        "outputId": "515b2750-f1c9-4bd1-946d-d8585de438b2"
      },
      "execution_count": 11,
      "outputs": [
        {
          "output_type": "execute_result",
          "data": {
            "text/plain": [
              "tensor([3])"
            ]
          },
          "metadata": {},
          "execution_count": 11
        }
      ]
    },
    {
      "cell_type": "code",
      "source": [
        "\n",
        "correct = 0\n",
        "total = 0\n",
        "\n",
        "with torch.no_grad():\n",
        "    for images, labels in test_loader:\n",
        "        outputs = model(images)\n",
        "        _, predicted = torch.max(outputs, 1)\n",
        "\n",
        "        total += labels.size(0)\n",
        "        correct += (predicted == labels).sum().item()\n",
        "accuracy = 100 * correct / total\n",
        "\n",
        "print(f'Accuracy of the model on the test set: {accuracy:.2f}%')"
      ],
      "metadata": {
        "colab": {
          "base_uri": "https://localhost:8080/"
        },
        "id": "-8IV1f8Fa2mQ",
        "outputId": "b8f55961-4e97-45e0-c057-fd6dd605fd85"
      },
      "execution_count": 12,
      "outputs": [
        {
          "output_type": "stream",
          "name": "stdout",
          "text": [
            "Accuracy of the model on the test set: 90.74%\n"
          ]
        }
      ]
    },
    {
      "cell_type": "code",
      "source": [],
      "metadata": {
        "id": "2uPXKN2VqhHM"
      },
      "execution_count": 12,
      "outputs": []
    }
  ]
}