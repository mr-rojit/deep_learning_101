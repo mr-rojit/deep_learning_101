{
  "nbformat": 4,
  "nbformat_minor": 0,
  "metadata": {
    "colab": {
      "provenance": [],
      "gpuType": "T4"
    },
    "kernelspec": {
      "name": "python3",
      "display_name": "Python 3"
    },
    "language_info": {
      "name": "python"
    },
    "accelerator": "GPU"
  },
  "cells": [
    {
      "cell_type": "code",
      "execution_count": 1,
      "metadata": {
        "id": "y1sYGq94dI62"
      },
      "outputs": [],
      "source": [
        "import numpy as np\n",
        "import matplotlib.pyplot as plt\n",
        "\n",
        "import torch\n",
        "import torch.nn as nn\n",
        "from torch.utils.data import DataLoader, Dataset, random_split\n",
        "from torchvision.datasets import CIFAR10\n",
        "from torchvision.transforms import ToTensor\n",
        "from torch.optim import SGD\n",
        "import torch.nn.functional as F"
      ]
    },
    {
      "cell_type": "code",
      "source": [
        "device = torch.device(\"cuda\" if torch.cuda.is_available() else \"cpu\")\n",
        "device"
      ],
      "metadata": {
        "colab": {
          "base_uri": "https://localhost:8080/"
        },
        "id": "C2Tq9nU4dKPy",
        "outputId": "8b835e13-d5a2-4f14-aad6-a5156f4f4159"
      },
      "execution_count": 3,
      "outputs": [
        {
          "output_type": "execute_result",
          "data": {
            "text/plain": [
              "device(type='cuda')"
            ]
          },
          "metadata": {},
          "execution_count": 3
        }
      ]
    },
    {
      "cell_type": "code",
      "source": [
        "train_dataset = CIFAR10(root=\".\", download=True, train=True, transform=ToTensor())\n",
        "test_dataset = CIFAR10(root=\".\", download=True, train=False, transform=ToTensor())\n",
        "len(train_dataset), len(test_dataset)"
      ],
      "metadata": {
        "id": "I36J7NOOdXOc",
        "colab": {
          "base_uri": "https://localhost:8080/"
        },
        "outputId": "8e17911a-f989-46b3-eea7-b17500105bbc"
      },
      "execution_count": 4,
      "outputs": [
        {
          "output_type": "stream",
          "name": "stdout",
          "text": [
            "Downloading https://www.cs.toronto.edu/~kriz/cifar-10-python.tar.gz to ./cifar-10-python.tar.gz\n"
          ]
        },
        {
          "output_type": "stream",
          "name": "stderr",
          "text": [
            "100%|██████████| 170498071/170498071 [00:05<00:00, 31195321.60it/s]\n"
          ]
        },
        {
          "output_type": "stream",
          "name": "stdout",
          "text": [
            "Extracting ./cifar-10-python.tar.gz to .\n",
            "Files already downloaded and verified\n"
          ]
        }
      ]
    },
    {
      "cell_type": "code",
      "source": [
        "train_dataset.class_to_idx"
      ],
      "metadata": {
        "colab": {
          "base_uri": "https://localhost:8080/"
        },
        "id": "BlzbcpLCyHke",
        "outputId": "97e9559f-4739-4bba-ecca-94f1e1db2527"
      },
      "execution_count": 5,
      "outputs": [
        {
          "output_type": "execute_result",
          "data": {
            "text/plain": [
              "{'airplane': 0,\n",
              " 'automobile': 1,\n",
              " 'bird': 2,\n",
              " 'cat': 3,\n",
              " 'deer': 4,\n",
              " 'dog': 5,\n",
              " 'frog': 6,\n",
              " 'horse': 7,\n",
              " 'ship': 8,\n",
              " 'truck': 9}"
            ]
          },
          "metadata": {},
          "execution_count": 5
        }
      ]
    },
    {
      "cell_type": "code",
      "source": [
        "image, label = train_dataset[42]\n",
        "plt.imshow(torch.permute(image, (1,2,0)))\n",
        "plt.title(label)\n"
      ],
      "metadata": {
        "colab": {
          "base_uri": "https://localhost:8080/",
          "height": 489
        },
        "id": "G6vInqwMyMrV",
        "outputId": "18d6773f-189e-49f5-b0be-2dd4dca923ea"
      },
      "execution_count": 6,
      "outputs": [
        {
          "output_type": "execute_result",
          "data": {
            "text/plain": [
              "Text(0.5, 1.0, '2')"
            ]
          },
          "metadata": {},
          "execution_count": 6
        },
        {
          "output_type": "display_data",
          "data": {
            "text/plain": [
              "<Figure size 640x480 with 1 Axes>"
            ],
            "image/png": "[encoded data removed]"
          },
          "metadata": {}
        }
      ]
    },
    {
      "cell_type": "code",
      "source": [
        "train_loader = DataLoader(train_dataset, batch_size=64, shuffle=True)\n",
        "val_loader = DataLoader(test_dataset, batch_size=64)"
      ],
      "metadata": {
        "id": "Z6CmOLJ5yOYf"
      },
      "execution_count": 7,
      "outputs": []
    },
    {
      "cell_type": "code",
      "source": [
        "class CNNModel(nn.Module):\n",
        "\n",
        "  def __init__(self):\n",
        "    super().__init__()\n",
        "    self.model = nn.Sequential(\n",
        "        nn.Conv2d(in_channels=3, out_channels=32, kernel_size=3, stride=1, padding=1),\n",
        "        nn.BatchNorm2d(32),\n",
        "        nn.ReLU(),\n",
        "        nn.MaxPool2d(2,2),\n",
        "\n",
        "        nn.Conv2d(in_channels=32, out_channels=64, kernel_size=3, stride=1, padding=1),\n",
        "        nn.BatchNorm2d(64),\n",
        "        nn.ReLU(),\n",
        "        nn.MaxPool2d(2,2),\n",
        "\n",
        "        nn.Conv2d(in_channels=64, out_channels=128, kernel_size=3, stride=1, padding=1),\n",
        "        nn.BatchNorm2d(128),\n",
        "        nn.ReLU(),\n",
        "        nn.MaxPool2d(2,2),\n",
        "\n",
        "        nn.Flatten(),\n",
        "        nn.Linear(128 * 4 * 4, 256),\n",
        "        nn.ReLU(),\n",
        "        nn.Linear(256, 128),\n",
        "        nn.ReLU(),\n",
        "        nn.Linear(128, 10)\n",
        "        )\n",
        "  def forward(self, X):\n",
        "    return self.model(X)"
      ],
      "metadata": {
        "id": "Q-AJlAeOyQme"
      },
      "execution_count": 8,
      "outputs": []
    },
    {
      "cell_type": "code",
      "source": [
        "EPOCHS = 30\n",
        "\n",
        "model = CNNModel()\n",
        "model = model.to(device)\n",
        "loss_fn = nn.CrossEntropyLoss()\n",
        "optimizer = SGD(model.parameters(), lr=0.01)\n",
        "\n",
        "losses = []\n",
        "\n",
        "for _ in range(EPOCHS):\n",
        "\n",
        "  model.train()\n",
        "  mini_train_loss = []\n",
        "  for x_train_batch, y_train_batch in train_loader:\n",
        "    x_train_batch = x_train_batch.to(device)\n",
        "    y_train_batch = y_train_batch.to(device)\n",
        "    y_pred = model(x_train_batch)\n",
        "    loss = loss_fn(y_pred, y_train_batch)\n",
        "    mini_train_loss.append(loss.item())\n",
        "    optimizer.zero_grad()\n",
        "    loss.backward()\n",
        "    optimizer.step()\n",
        "  avg_loss = np.mean(mini_train_loss)\n",
        "  print(avg_loss)\n",
        "  losses.append(avg_loss)\n"
      ],
      "metadata": {
        "colab": {
          "base_uri": "https://localhost:8080/"
        },
        "id": "rhnM_MQbySjC",
        "outputId": "8a8e0968-4348-44aa-8f80-6963f501f373"
      },
      "execution_count": 12,
      "outputs": [
        {
          "output_type": "stream",
          "name": "stdout",
          "text": [
            "1.6322760124645574\n",
            "1.1655258005842224\n",
            "0.9804050349213583\n",
            "0.8707032476544685\n",
            "0.7882901101999575\n",
            "0.7192541339132182\n",
            "0.6653530232589263\n",
            "0.6123356272268783\n",
            "0.5635561325284831\n",
            "0.5274839910590435\n",
            "0.486841877136389\n",
            "0.4404176280778997\n",
            "0.4097346730930421\n",
            "0.3762121333566773\n",
            "0.338995353197274\n",
            "0.3115158686152352\n",
            "0.27859337056231925\n",
            "0.25252486280906383\n",
            "0.22934490885309247\n",
            "0.19909991097667484\n",
            "0.1745995598585557\n",
            "0.1552384941102675\n",
            "0.13712139945963156\n",
            "0.12173053927605262\n",
            "0.09049363667859942\n",
            "0.0805629873219544\n",
            "0.08526528710285035\n",
            "0.06834486201572258\n",
            "0.06540698619545116\n",
            "0.050911441163095594\n"
          ]
        }
      ]
    },
    {
      "cell_type": "code",
      "source": [
        "model.eval()  # Set model to evaluation mode\n",
        "mode = model.to(\"cpu\")\n",
        "correct = 0\n",
        "total = 0\n",
        "\n",
        "with torch.no_grad():\n",
        "    for images, labels in val_loader:\n",
        "        # images = images.to(device)\n",
        "        outputs = model(images)\n",
        "        _, predicted = torch.max(outputs, 1)\n",
        "        total += labels.size(0)\n",
        "        correct += (predicted == labels).sum().item()\n",
        "\n",
        "accuracy = 100 * correct / total\n",
        "print(f'Accuracy of the CNN model on the test set: {accuracy:.2f}%')"
      ],
      "metadata": {
        "colab": {
          "base_uri": "https://localhost:8080/"
        },
        "id": "vVzLLtJOyjEd",
        "outputId": "96fcf447-06f1-4352-cf3e-c494801c573c"
      },
      "execution_count": 13,
      "outputs": [
        {
          "output_type": "stream",
          "name": "stdout",
          "text": [
            "Accuracy of the CNN model on the test set: 75.33%\n"
          ]
        }
      ]
    },
    {
      "cell_type": "code",
      "source": [],
      "metadata": {
        "id": "JshEfoCYytCZ"
      },
      "execution_count": null,
      "outputs": []
    }
  ]
}