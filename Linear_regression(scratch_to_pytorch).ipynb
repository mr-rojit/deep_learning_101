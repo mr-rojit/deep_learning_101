{
  "nbformat": 4,
  "nbformat_minor": 0,
  "metadata": {
    "colab": {
      "provenance": []
    },
    "kernelspec": {
      "name": "python3",
      "display_name": "Python 3"
    },
    "language_info": {
      "name": "python"
    }
  },
  "cells": [
    {
      "cell_type": "markdown",
      "source": [
        "Importing all essential libraries for the notebook"
      ],
      "metadata": {
        "id": "IfhsLnz5fM_c"
      }
    },
    {
      "cell_type": "code",
      "execution_count": 1,
      "metadata": {
        "id": "x7v1CuzW38oj"
      },
      "outputs": [],
      "source": [
        "import numpy as np\n",
        "import torch\n",
        "import torch.nn as nn\n",
        "import torch.optim as optim\n",
        "!pip install torchviz --quiet\n",
        "from torchviz import make_dot\n",
        "import matplotlib.pyplot as plt\n",
        "from torch.utils.data import TensorDataset, DataLoader, random_split\n",
        "from sklearn.datasets import make_regression"
      ]
    },
    {
      "cell_type": "code",
      "source": [
        "device = torch.device(\"cuda\" if torch.cuda.is_available() else \"cpu\")"
      ],
      "metadata": {
        "id": "gj_HKxyQa2Rg"
      },
      "execution_count": 2,
      "outputs": []
    },
    {
      "cell_type": "code",
      "source": [
        "# gneration N data points for creating linear dataset\n",
        "N = 32 # just 32 thinking it as a minibatch for a while\n",
        "np.random.seed(42)\n",
        "\n",
        "actual_w = 3\n",
        "actual_b = 1.5\n",
        "error = np.random.rand(N,1)\n",
        "X = np.random.rand(N, 1)\n",
        "\n",
        "y = actual_w * X + actual_b + error"
      ],
      "metadata": {
        "id": "HA8WLUIMbRVY"
      },
      "execution_count": 3,
      "outputs": []
    },
    {
      "cell_type": "code",
      "source": [
        "plt.scatter(X, y)"
      ],
      "metadata": {
        "colab": {
          "base_uri": "https://localhost:8080/",
          "height": 447
        },
        "id": "q4Igqab8b_3h",
        "outputId": "0bd65bc8-2d83-499d-9a1d-2d71ba04e8b4"
      },
      "execution_count": 4,
      "outputs": [
        {
          "output_type": "execute_result",
          "data": {
            "text/plain": [
              "<matplotlib.collections.PathCollection at 0x7acb0d8b6590>"
            ]
          },
          "metadata": {},
          "execution_count": 4
        },
        {
          "output_type": "display_data",
          "data": {
            "text/plain": [
              "<Figure size 640x480 with 1 Axes>"
            ],
            "image/png": "[encoded data removed]"
          },
          "metadata": {}
        }
      ]
    },
    {
      "cell_type": "markdown",
      "source": [
        "## Creating Linear regression from scratch"
      ],
      "metadata": {
        "id": "9xpZw8BlfgWc"
      }
    },
    {
      "cell_type": "code",
      "source": [
        "\n",
        "# initialize random w and x. With the help of gradent descent algorith, move our random w and b to actual_w and actual_b so the error would be minimal.\n",
        "\n",
        "np.random.seed(42)\n",
        "w = np.random.rand()\n",
        "b = np.random.rand()\n",
        "\n",
        "# just comparing the prediction\n",
        "\n",
        "y_pred = w * X + b\n",
        "\n",
        "plt.scatter(X,y)\n",
        "plt.scatter(X, y_pred)\n"
      ],
      "metadata": {
        "colab": {
          "base_uri": "https://localhost:8080/",
          "height": 447
        },
        "id": "sAEl7vJIe-vG",
        "outputId": "66cc787d-3e0b-4ec5-8169-b425c3affd54"
      },
      "execution_count": 5,
      "outputs": [
        {
          "output_type": "execute_result",
          "data": {
            "text/plain": [
              "<matplotlib.collections.PathCollection at 0x7acb0b796e30>"
            ]
          },
          "metadata": {},
          "execution_count": 5
        },
        {
          "output_type": "display_data",
          "data": {
            "text/plain": [
              "<Figure size 640x480 with 1 Axes>"
            ],
            "image/png": "[encoded data removed]"
          },
          "metadata": {}
        }
      ]
    },
    {
      "cell_type": "code",
      "source": [
        "# defining mean squarred error function\n",
        "\n",
        "def mse(y_pred, y):\n",
        "  return ((y_pred - y) ** 2).mean()"
      ],
      "metadata": {
        "id": "kADsgaKagjsm"
      },
      "execution_count": 6,
      "outputs": []
    },
    {
      "cell_type": "code",
      "source": [
        "np.random.seed(42)\n",
        "\n",
        "w = np.random.rand()\n",
        "b = np.random.rand()\n",
        "\n",
        "alpha = 0.1\n",
        "losses = []\n",
        "\n",
        "for _ in range(200):\n",
        "\n",
        "  y_pred = w * X + b\n",
        "\n",
        "  delta = y_pred - y\n",
        "\n",
        "  loss = mse(y_pred , y)\n",
        "\n",
        "  losses.append(loss)\n",
        "\n",
        "  w_grad = (2 * delta * X).mean()\n",
        "\n",
        "  b_grad = (2 * delta).mean()\n",
        "\n",
        "  w -= alpha * w_grad\n",
        "  b -= alpha * b_grad\n",
        "\n",
        "w, b"
      ],
      "metadata": {
        "colab": {
          "base_uri": "https://localhost:8080/"
        },
        "id": "3fSPMYY-cSXV",
        "outputId": "affe2f84-b2fd-49ff-ab9e-791b230b814d"
      },
      "execution_count": 7,
      "outputs": [
        {
          "output_type": "execute_result",
          "data": {
            "text/plain": [
              "(3.161126694158599, 1.8584073945530828)"
            ]
          },
          "metadata": {},
          "execution_count": 7
        }
      ]
    },
    {
      "cell_type": "code",
      "source": [
        "y_pred = w * X + b\n",
        "\n",
        "plt.scatter(X,y)\n",
        "plt.scatter(X, y_pred)\n"
      ],
      "metadata": {
        "colab": {
          "base_uri": "https://localhost:8080/",
          "height": 447
        },
        "id": "FEIzD3vlqsWW",
        "outputId": "fd06f2df-613e-43d4-9fc5-4735e89fffdb"
      },
      "execution_count": 8,
      "outputs": [
        {
          "output_type": "execute_result",
          "data": {
            "text/plain": [
              "<matplotlib.collections.PathCollection at 0x7acb0b64f1f0>"
            ]
          },
          "metadata": {},
          "execution_count": 8
        },
        {
          "output_type": "display_data",
          "data": {
            "text/plain": [
              "<Figure size 640x480 with 1 Axes>"
            ],
            "image/png": "[encoded data removed]"
          },
          "metadata": {}
        }
      ]
    },
    {
      "cell_type": "code",
      "source": [
        "# plotting loss by epochs\n",
        "plt.plot(range(200), losses)"
      ],
      "metadata": {
        "colab": {
          "base_uri": "https://localhost:8080/",
          "height": 447
        },
        "id": "vYlWBhzYq48u",
        "outputId": "66c56647-e465-4e4c-c515-7546ae2080f9"
      },
      "execution_count": 9,
      "outputs": [
        {
          "output_type": "execute_result",
          "data": {
            "text/plain": [
              "[<matplotlib.lines.Line2D at 0x7acb0b6dd150>]"
            ]
          },
          "metadata": {},
          "execution_count": 9
        },
        {
          "output_type": "display_data",
          "data": {
            "text/plain": [
              "<Figure size 640x480 with 1 Axes>"
            ],
            "image/png": "[encoded data removed]"
          },
          "metadata": {}
        }
      ]
    },
    {
      "cell_type": "markdown",
      "source": [
        "## Using pytorch workflow"
      ],
      "metadata": {
        "id": "wu47MyFhxy1x"
      }
    },
    {
      "cell_type": "code",
      "source": [
        "# converting numpy nd array to torch tensor\n",
        "X = torch.as_tensor(X, dtype=torch.float64)\n",
        "y = torch.as_tensor(y, dtype=torch.float64)\n",
        "X.dtype, X.shape"
      ],
      "metadata": {
        "colab": {
          "base_uri": "https://localhost:8080/"
        },
        "id": "rE9avRjHvjOf",
        "outputId": "2d6f4332-94d0-40a2-cddb-eb486e911d54"
      },
      "execution_count": 10,
      "outputs": [
        {
          "output_type": "execute_result",
          "data": {
            "text/plain": [
              "(torch.float64, torch.Size([32, 1]))"
            ]
          },
          "metadata": {},
          "execution_count": 10
        }
      ]
    },
    {
      "cell_type": "markdown",
      "source": [
        "## Manually defining w and b instead of using any inbuilt layer from torch"
      ],
      "metadata": {
        "id": "4lGgZykNCUuO"
      }
    },
    {
      "cell_type": "code",
      "source": [
        "class LinearModel(nn.Module):\n",
        "\n",
        "  def __init__(self):\n",
        "    super().__init__()\n",
        "    self.w = nn.Parameter(torch.randn(1, requires_grad=True, device=device))\n",
        "    self.b = nn.Parameter(torch.randn(1, requires_grad=True, device=device))\n",
        "\n",
        "  def forward(self, X):\n",
        "    return self.w * X + self.b"
      ],
      "metadata": {
        "id": "i6Rd-7R8vjF6"
      },
      "execution_count": 11,
      "outputs": []
    },
    {
      "cell_type": "code",
      "source": [
        "torch.manual_seed(42)\n",
        "\n",
        "model = LinearModel()\n",
        "\n",
        "optimizer = optim.SGD(model.parameters(), lr=0.1)\n",
        "\n",
        "loss_fn = nn.MSELoss()\n",
        "\n",
        "for _ in range(200):\n",
        "\n",
        "  model.train()\n",
        "\n",
        "  y_pred = model(X)\n",
        "\n",
        "  loss = loss_fn(y_pred, y) # calculates loss using MSE\n",
        "\n",
        "  loss.backward() # calculates w_grad and b_grad\n",
        "\n",
        "  optimizer.step() # equivalent to previous w-= w_grad\n",
        "\n",
        "  optimizer.zero_grad()\n",
        "\n",
        "model.state_dict()\n"
      ],
      "metadata": {
        "colab": {
          "base_uri": "https://localhost:8080/"
        },
        "id": "hKX1-g04vjDi",
        "outputId": "73c1d1b4-f7ac-41c6-91fc-0adb9b9cadae"
      },
      "execution_count": 12,
      "outputs": [
        {
          "output_type": "execute_result",
          "data": {
            "text/plain": [
              "OrderedDict([('w', tensor([3.1741])), ('b', tensor([1.8514]))])"
            ]
          },
          "metadata": {},
          "execution_count": 12
        }
      ]
    },
    {
      "cell_type": "code",
      "source": [
        "make_dot(loss)"
      ],
      "metadata": {
        "colab": {
          "base_uri": "https://localhost:8080/",
          "height": 472
        },
        "id": "0PuHkaMYvi-K",
        "outputId": "97cd5453-c086-408d-875c-32feaddd8ee9"
      },
      "execution_count": 13,
      "outputs": [
        {
          "output_type": "execute_result",
          "data": {
            "image/svg+xml": "<?xml version=\"1.0\" encoding=\"UTF-8\" standalone=\"no\"?>\n<!DOCTYPE svg PUBLIC \"-//W3C//DTD SVG 1.1//EN\"\n \"http://www.w3.org/Graphics/SVG/1.1/DTD/svg11.dtd\">\n<!-- Generated by graphviz version 2.43.0 (0)\n -->\n<!-- Title: %3 Pages: 1 -->\n<svg width=\"222pt\" height=\"338pt\"\n viewBox=\"0.00 0.00 222.00 338.00\" xmlns=\"http://www.w3.org/2000/svg\" xmlns:xlink=\"http://www.w3.org/1999/xlink\">\n<g id=\"graph0\" class=\"graph\" transform=\"scale(1 1) rotate(0) translate(4 334)\">\n<title>%3</title>\n<polygon fill=\"white\" stroke=\"transparent\" points=\"-4,4 -4,-334 218,-334 218,4 -4,4\"/>\n<!-- 135012473535872 -->\n<g id=\"node1\" class=\"node\">\n<title>135012473535872</title>\n<polygon fill=\"#caff70\" stroke=\"black\" points=\"133.5,-31 79.5,-31 79.5,0 133.5,0 133.5,-31\"/>\n<text text-anchor=\"middle\" x=\"106.5\" y=\"-7\" font-family=\"monospace\" font-size=\"10.00\"> ()</text>\n</g>\n<!-- 135012489993648 -->\n<g id=\"node2\" class=\"node\">\n<title>135012489993648</title>\n<polygon fill=\"lightgrey\" stroke=\"black\" points=\"163,-86 50,-86 50,-67 163,-67 163,-86\"/>\n<text text-anchor=\"middle\" x=\"106.5\" y=\"-74\" font-family=\"monospace\" font-size=\"10.00\">MseLossBackward0</text>\n</g>\n<!-- 135012489993648&#45;&gt;135012473535872 -->\n<g id=\"edge7\" class=\"edge\">\n<title>135012489993648&#45;&gt;135012473535872</title>\n<path fill=\"none\" stroke=\"black\" d=\"M106.5,-66.79C106.5,-60.07 106.5,-50.4 106.5,-41.34\"/>\n<polygon fill=\"black\" stroke=\"black\" points=\"110,-41.19 106.5,-31.19 103,-41.19 110,-41.19\"/>\n</g>\n<!-- 135012489995760 -->\n<g id=\"node3\" class=\"node\">\n<title>135012489995760</title>\n<polygon fill=\"lightgrey\" stroke=\"black\" points=\"151,-141 62,-141 62,-122 151,-122 151,-141\"/>\n<text text-anchor=\"middle\" x=\"106.5\" y=\"-129\" font-family=\"monospace\" font-size=\"10.00\">AddBackward0</text>\n</g>\n<!-- 135012489995760&#45;&gt;135012489993648 -->\n<g id=\"edge1\" class=\"edge\">\n<title>135012489995760&#45;&gt;135012489993648</title>\n<path fill=\"none\" stroke=\"black\" d=\"M106.5,-121.75C106.5,-114.8 106.5,-104.85 106.5,-96.13\"/>\n<polygon fill=\"black\" stroke=\"black\" points=\"110,-96.09 106.5,-86.09 103,-96.09 110,-96.09\"/>\n</g>\n<!-- 135012489998256 -->\n<g id=\"node4\" class=\"node\">\n<title>135012489998256</title>\n<polygon fill=\"lightgrey\" stroke=\"black\" points=\"95,-196 6,-196 6,-177 95,-177 95,-196\"/>\n<text text-anchor=\"middle\" x=\"50.5\" y=\"-184\" font-family=\"monospace\" font-size=\"10.00\">MulBackward0</text>\n</g>\n<!-- 135012489998256&#45;&gt;135012489995760 -->\n<g id=\"edge2\" class=\"edge\">\n<title>135012489998256&#45;&gt;135012489995760</title>\n<path fill=\"none\" stroke=\"black\" d=\"M59.5,-176.98C67.69,-169.23 80.01,-157.58 89.97,-148.14\"/>\n<polygon fill=\"black\" stroke=\"black\" points=\"92.48,-150.59 97.34,-141.17 87.67,-145.5 92.48,-150.59\"/>\n</g>\n<!-- 135012489048656 -->\n<g id=\"node5\" class=\"node\">\n<title>135012489048656</title>\n<polygon fill=\"lightgrey\" stroke=\"black\" points=\"101,-257 0,-257 0,-238 101,-238 101,-257\"/>\n<text text-anchor=\"middle\" x=\"50.5\" y=\"-245\" font-family=\"monospace\" font-size=\"10.00\">AccumulateGrad</text>\n</g>\n<!-- 135012489048656&#45;&gt;135012489998256 -->\n<g id=\"edge3\" class=\"edge\">\n<title>135012489048656&#45;&gt;135012489998256</title>\n<path fill=\"none\" stroke=\"black\" d=\"M50.5,-237.79C50.5,-229.6 50.5,-217.06 50.5,-206.55\"/>\n<polygon fill=\"black\" stroke=\"black\" points=\"54,-206.24 50.5,-196.24 47,-206.24 54,-206.24\"/>\n</g>\n<!-- 135012486980016 -->\n<g id=\"node6\" class=\"node\">\n<title>135012486980016</title>\n<polygon fill=\"lightblue\" stroke=\"black\" points=\"77.5,-330 23.5,-330 23.5,-299 77.5,-299 77.5,-330\"/>\n<text text-anchor=\"middle\" x=\"50.5\" y=\"-306\" font-family=\"monospace\" font-size=\"10.00\"> (1)</text>\n</g>\n<!-- 135012486980016&#45;&gt;135012489048656 -->\n<g id=\"edge4\" class=\"edge\">\n<title>135012486980016&#45;&gt;135012489048656</title>\n<path fill=\"none\" stroke=\"black\" d=\"M50.5,-298.75C50.5,-289.39 50.5,-277.19 50.5,-267.16\"/>\n<polygon fill=\"black\" stroke=\"black\" points=\"54,-267.02 50.5,-257.02 47,-267.02 54,-267.02\"/>\n</g>\n<!-- 135012489048752 -->\n<g id=\"node7\" class=\"node\">\n<title>135012489048752</title>\n<polygon fill=\"lightgrey\" stroke=\"black\" points=\"214,-196 113,-196 113,-177 214,-177 214,-196\"/>\n<text text-anchor=\"middle\" x=\"163.5\" y=\"-184\" font-family=\"monospace\" font-size=\"10.00\">AccumulateGrad</text>\n</g>\n<!-- 135012489048752&#45;&gt;135012489995760 -->\n<g id=\"edge5\" class=\"edge\">\n<title>135012489048752&#45;&gt;135012489995760</title>\n<path fill=\"none\" stroke=\"black\" d=\"M154.34,-176.98C146,-169.23 133.47,-157.58 123.32,-148.14\"/>\n<polygon fill=\"black\" stroke=\"black\" points=\"125.53,-145.42 115.82,-141.17 120.76,-150.54 125.53,-145.42\"/>\n</g>\n<!-- 135012489554784 -->\n<g id=\"node8\" class=\"node\">\n<title>135012489554784</title>\n<polygon fill=\"lightblue\" stroke=\"black\" points=\"190.5,-263 136.5,-263 136.5,-232 190.5,-232 190.5,-263\"/>\n<text text-anchor=\"middle\" x=\"163.5\" y=\"-239\" font-family=\"monospace\" font-size=\"10.00\"> (1)</text>\n</g>\n<!-- 135012489554784&#45;&gt;135012489048752 -->\n<g id=\"edge6\" class=\"edge\">\n<title>135012489554784&#45;&gt;135012489048752</title>\n<path fill=\"none\" stroke=\"black\" d=\"M163.5,-231.92C163.5,-224.22 163.5,-214.69 163.5,-206.43\"/>\n<polygon fill=\"black\" stroke=\"black\" points=\"167,-206.25 163.5,-196.25 160,-206.25 167,-206.25\"/>\n</g>\n</g>\n</svg>\n",
            "text/plain": [
              "<graphviz.graphs.Digraph at 0x7acb0b81a410>"
            ]
          },
          "metadata": {},
          "execution_count": 13
        }
      ]
    },
    {
      "cell_type": "markdown",
      "source": [
        "## Using pytorch inbuild layer (nn.Linear) to build our model"
      ],
      "metadata": {
        "id": "7LnIBNt_D3wl"
      }
    },
    {
      "cell_type": "code",
      "source": [
        "class NewLinearModel(nn.Module):\n",
        "\n",
        "  def __init__(self):\n",
        "    super().__init__()\n",
        "    self.fc1 = nn.Linear(in_features=1, out_features=1, dtype=torch.float64)\n",
        "    # self.fc2 = nn.Linear(in_features=6, out_features=1, dtype=torch.float64)\n",
        "\n",
        "\n",
        "  def forward(self, X):\n",
        "    # a = self.fc1(X)\n",
        "    # return self.fc2(a)\n",
        "    return self.fc1(X)"
      ],
      "metadata": {
        "id": "XsZb1I8lvi6v"
      },
      "execution_count": 14,
      "outputs": []
    },
    {
      "cell_type": "code",
      "source": [
        "torch.manual_seed(42)\n",
        "\n",
        "model = NewLinearModel()\n",
        "\n",
        "optimizer = optim.SGD(model.parameters(), lr=0.1)\n",
        "\n",
        "loss_fn = nn.MSELoss()\n",
        "\n",
        "for _ in range(200):\n",
        "\n",
        "  model.train()\n",
        "\n",
        "  y_pred = model(X)\n",
        "\n",
        "  loss = loss_fn(y_pred, y) # calculates loss using MSE\n",
        "\n",
        "  loss.backward() # calculates w_grad and b_grad\n",
        "\n",
        "  optimizer.step() # equivalent to previous w-= w_grad\n",
        "\n",
        "  optimizer.zero_grad()\n",
        "\n",
        "model.state_dict()"
      ],
      "metadata": {
        "colab": {
          "base_uri": "https://localhost:8080/"
        },
        "id": "1QjXLO9_viyE",
        "outputId": "cad4a993-62fc-4a7f-dbba-eb8ea2c9d27e"
      },
      "execution_count": 15,
      "outputs": [
        {
          "output_type": "execute_result",
          "data": {
            "text/plain": [
              "OrderedDict([('fc1.weight', tensor([[3.1525]], dtype=torch.float64)),\n",
              "             ('fc1.bias', tensor([1.8631], dtype=torch.float64))])"
            ]
          },
          "metadata": {},
          "execution_count": 15
        }
      ]
    },
    {
      "cell_type": "code",
      "source": [
        "new_pred = model(X)"
      ],
      "metadata": {
        "id": "5w-mjwBvcU94"
      },
      "execution_count": 16,
      "outputs": []
    },
    {
      "cell_type": "code",
      "source": [
        "plt.scatter(X, y)\n",
        "plt.scatter(X, new_pred.detach().numpy())"
      ],
      "metadata": {
        "colab": {
          "base_uri": "https://localhost:8080/",
          "height": 447
        },
        "id": "c3-chFuwZN9M",
        "outputId": "4e16bc19-3485-43c1-c589-fd4e3d9d604c"
      },
      "execution_count": 17,
      "outputs": [
        {
          "output_type": "execute_result",
          "data": {
            "text/plain": [
              "<matplotlib.collections.PathCollection at 0x7acb09a5f100>"
            ]
          },
          "metadata": {},
          "execution_count": 17
        },
        {
          "output_type": "display_data",
          "data": {
            "text/plain": [
              "<Figure size 640x480 with 1 Axes>"
            ],
            "image/png": "[encoded data removed]"
          },
          "metadata": {}
        }
      ]
    },
    {
      "cell_type": "code",
      "source": [],
      "metadata": {
        "id": "UrOb7DYBb1VM"
      },
      "execution_count": 17,
      "outputs": []
    }
  ]
}