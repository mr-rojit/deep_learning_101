{
 "cells": [
  {
   "cell_type": "markdown",
   "id": "c5053f44",
   "metadata": {},
   "source": [
    "### A simple neural network learning streetlight pattern"
   ]
  },
  {
   "cell_type": "code",
   "execution_count": 9,
   "id": "08a75eb1",
   "metadata": {},
   "outputs": [],
   "source": [
    "import numpy as np\n",
    "import pandas as pd\n",
    "import random"
   ]
  },
  {
   "cell_type": "markdown",
   "id": "70e722fb",
   "metadata": {},
   "source": [
    "#### we are creating dummy streetlight data"
   ]
  },
  {
   "cell_type": "code",
   "execution_count": 2,
   "id": "9fd7ec10",
   "metadata": {},
   "outputs": [
    {
     "data": {
      "text/html": [
       "<div>\n",
       "<style scoped>\n",
       "    .dataframe tbody tr th:only-of-type {\n",
       "        vertical-align: middle;\n",
       "    }\n",
       "\n",
       "    .dataframe tbody tr th {\n",
       "        vertical-align: top;\n",
       "    }\n",
       "\n",
       "    .dataframe thead th {\n",
       "        text-align: right;\n",
       "    }\n",
       "</style>\n",
       "<table border=\"1\" class=\"dataframe\">\n",
       "  <thead>\n",
       "    <tr style=\"text-align: right;\">\n",
       "      <th></th>\n",
       "      <th>Red</th>\n",
       "      <th>Orange</th>\n",
       "      <th>Green</th>\n",
       "      <th>Go</th>\n",
       "    </tr>\n",
       "  </thead>\n",
       "  <tbody>\n",
       "    <tr>\n",
       "      <th>0</th>\n",
       "      <td>1</td>\n",
       "      <td>0</td>\n",
       "      <td>0</td>\n",
       "      <td>0</td>\n",
       "    </tr>\n",
       "    <tr>\n",
       "      <th>1</th>\n",
       "      <td>0</td>\n",
       "      <td>0</td>\n",
       "      <td>1</td>\n",
       "      <td>1</td>\n",
       "    </tr>\n",
       "    <tr>\n",
       "      <th>2</th>\n",
       "      <td>0</td>\n",
       "      <td>1</td>\n",
       "      <td>0</td>\n",
       "      <td>1</td>\n",
       "    </tr>\n",
       "    <tr>\n",
       "      <th>3</th>\n",
       "      <td>0</td>\n",
       "      <td>0</td>\n",
       "      <td>1</td>\n",
       "      <td>1</td>\n",
       "    </tr>\n",
       "    <tr>\n",
       "      <th>4</th>\n",
       "      <td>1</td>\n",
       "      <td>0</td>\n",
       "      <td>0</td>\n",
       "      <td>0</td>\n",
       "    </tr>\n",
       "  </tbody>\n",
       "</table>\n",
       "</div>"
      ],
      "text/plain": [
       "   Red  Orange  Green  Go\n",
       "0    1       0      0   0\n",
       "1    0       0      1   1\n",
       "2    0       1      0   1\n",
       "3    0       0      1   1\n",
       "4    1       0      0   0"
      ]
     },
     "execution_count": 2,
     "metadata": {},
     "output_type": "execute_result"
    }
   ],
   "source": [
    "df= pd.DataFrame({\n",
    "    'Red': [1, 0, 0, 0, 1],\n",
    "    'Orange':[0, 0, 1, 0, 0],\n",
    "    'Green':[0, 1, 0, 1, 0],\n",
    "    'Go':[0, 1, 1, 1, 0]\n",
    "})\n",
    "df"
   ]
  },
  {
   "cell_type": "code",
   "execution_count": 3,
   "id": "226771a1",
   "metadata": {},
   "outputs": [],
   "source": [
    "X = df.drop('Go', axis=1).values\n",
    "y = df['Go'].values.reshape(-1,1)"
   ]
  },
  {
   "cell_type": "code",
   "execution_count": 4,
   "id": "e12008b2",
   "metadata": {},
   "outputs": [
    {
     "data": {
      "text/plain": [
       "array([[1, 0, 0],\n",
       "       [0, 0, 1],\n",
       "       [0, 1, 0],\n",
       "       [0, 0, 1],\n",
       "       [1, 0, 0]], dtype=int64)"
      ]
     },
     "execution_count": 4,
     "metadata": {},
     "output_type": "execute_result"
    }
   ],
   "source": [
    "X"
   ]
  },
  {
   "cell_type": "code",
   "execution_count": 5,
   "id": "cf62d33b",
   "metadata": {},
   "outputs": [
    {
     "data": {
      "text/plain": [
       "array([[0],\n",
       "       [1],\n",
       "       [1],\n",
       "       [1],\n",
       "       [0]], dtype=int64)"
      ]
     },
     "execution_count": 5,
     "metadata": {},
     "output_type": "execute_result"
    }
   ],
   "source": [
    "y"
   ]
  },
  {
   "cell_type": "code",
   "execution_count": 6,
   "id": "d902cf25",
   "metadata": {},
   "outputs": [],
   "source": [
    "# Before creating a NN with hidden layers we are creating simple NN with 3 inputs, 3 weights and 1 output\n",
    "# learning whole dataset"
   ]
  },
  {
   "cell_type": "code",
   "execution_count": 7,
   "id": "9c035af5",
   "metadata": {},
   "outputs": [
    {
     "name": "stdout",
     "output_type": "stream",
     "text": [
      "[1.004826]\n",
      "[0.9747888]\n",
      "[0.945745]\n",
      "[0.91765925]\n",
      "[0.8904975]\n",
      "[0.86422697]\n",
      "[0.83881612]\n",
      "[0.81423456]\n",
      "[0.79045303]\n",
      "[0.76744337]\n",
      "[0.74517845]\n",
      "[0.72363215]\n",
      "[0.7027793]\n",
      "[0.68259569]\n",
      "[0.66305796]\n",
      "[0.64414365]\n",
      "[0.6258311]\n",
      "[0.60809946]\n",
      "[0.59092864]\n",
      "[0.57429929]\n"
     ]
    }
   ],
   "source": [
    "x = X.copy()\n",
    "y = y.copy()\n",
    "alpha = 0.01\n",
    "\n",
    "weights = [0.1, 0.3, 0.5]\n",
    "\n",
    "for epoc in range(20):\n",
    "    total_error = 0\n",
    "    for i in range(len(x)):\n",
    "        inp = x[i]\n",
    "        actual = y[i]\n",
    "        pred = inp.dot(weights)\n",
    "        delta = pred - actual\n",
    "        error = delta **2\n",
    "        total_error += error\n",
    "        weight_delta = inp * delta\n",
    "        weights = weights - (alpha *weight_delta)\n",
    "    print(total_error)\n"
   ]
  },
  {
   "cell_type": "code",
   "execution_count": 8,
   "id": "1f54d453",
   "metadata": {},
   "outputs": [],
   "source": [
    "# Creating a deep neural network with relu activation"
   ]
  },
  {
   "cell_type": "code",
   "execution_count": 14,
   "id": "2bd75f2d",
   "metadata": {},
   "outputs": [],
   "source": [
    "# defining relu function\n",
    "\n",
    "def relu(x):\n",
    "    return (x > 0) * x\n",
    "\n",
    "def relu2deriv(out):\n",
    "    return out > 0\n"
   ]
  },
  {
   "cell_type": "code",
   "execution_count": 105,
   "id": "f1be66d9",
   "metadata": {},
   "outputs": [
    {
     "data": {
      "text/plain": [
       "(1,)"
      ]
     },
     "execution_count": 105,
     "metadata": {},
     "output_type": "execute_result"
    }
   ],
   "source": [
    "alpha = 0.01\n",
    "x = X.copy()\n",
    "y = y.copy()\n",
    "input_size = 3\n",
    "hidden_size = 4\n",
    "output_size = 1\n",
    "\n",
    "weights_0_1 = 2*np.random.random((input_size, hidden_size)) -1\n",
    "weights_1_2 = 2* np.random.random((hidden_size, output_size)) -1\n",
    "\n",
    "\n",
    "actual = y[0]\n",
    "input_layer = x[0]\n",
    "layer_1 =  relu(np.dot(input_layer, weights_0_1))\n",
    "layer_2 = np.dot(layer_1, weights_1_2)\n",
    "layer_2_delta = layer_2 - actual\n",
    "layer_2_delta.shape\n",
    "# weights_1_2 -= alpha * layer_1.T.dot(layer_2_delta)\n",
    "\n",
    "\n"
   ]
  },
  {
   "cell_type": "code",
   "execution_count": 109,
   "id": "55f49960",
   "metadata": {},
   "outputs": [
    {
     "name": "stdout",
     "output_type": "stream",
     "text": [
      "Error:0.6342311598444467\n",
      "Error:0.35838407676317513\n",
      "Error:0.0830183113303298\n",
      "Error:0.006467054957103705\n",
      "Error:0.0003292669000750734\n",
      "Error:1.5055622665134859e-05\n"
     ]
    }
   ],
   "source": [
    "np.random.seed(1)\n",
    "def relu(x):\n",
    " return (x > 0) * x\n",
    "def relu2deriv(output):\n",
    " return output>0\n",
    "streetlights = np.array( [[ 1, 0, 1 ],\n",
    " [ 0, 1, 1 ],\n",
    " [ 0, 0, 1 ],\n",
    " [ 1, 1, 1 ] ] )\n",
    "walk_vs_stop = np.array([[ 1, 1, 0, 0]]).T\n",
    "\n",
    "alpha = 0.2\n",
    "hidden_size = 4\n",
    "weights_0_1 = 2*np.random.random((3,hidden_size)) - 1\n",
    "weights_1_2 = 2*np.random.random((hidden_size,1)) - 1\n",
    "for iteration in range(60):\n",
    "     layer_2_error = 0\n",
    "     for i in range(len(streetlights)):\n",
    "         layer_0 = streetlights[i:i+1]\n",
    "         layer_1 = relu(np.dot(layer_0,weights_0_1))\n",
    "         layer_2 = np.dot(layer_1,weights_1_2)\n",
    "         layer_2_error += np.sum((layer_2 - walk_vs_stop[i:i+1]) ** 2)\n",
    "         layer_2_delta = (layer_2 - walk_vs_stop[i:i+1])\n",
    "         layer_1_delta=layer_2_delta.dot(weights_1_2.T)*relu2deriv(layer_1)\n",
    "         weights_1_2 -= alpha * layer_1.T.dot(layer_2_delta)\n",
    "         weights_0_1 -= alpha * layer_0.T.dot(layer_1_delta)\n",
    "     if(iteration % 10 == 9):\n",
    "         print(\"Error:\" + str(layer_2_error))"
   ]
  },
  {
   "cell_type": "code",
   "execution_count": 110,
   "id": "4236f982",
   "metadata": {},
   "outputs": [
    {
     "ename": "ValueError",
     "evalue": "non-broadcastable output operand with shape (4,1) doesn't match the broadcast shape (4,4)",
     "output_type": "error",
     "traceback": [
      "\u001b[1;31m---------------------------------------------------------------------------\u001b[0m",
      "\u001b[1;31mValueError\u001b[0m                                Traceback (most recent call last)",
      "Cell \u001b[1;32mIn[110], line 25\u001b[0m\n\u001b[0;32m     23\u001b[0m     layer_2_delta \u001b[38;5;241m=\u001b[39m (layer_2 \u001b[38;5;241m-\u001b[39m walk_vs_stop[i:i\u001b[38;5;241m+\u001b[39m\u001b[38;5;241m1\u001b[39m])\n\u001b[0;32m     24\u001b[0m     layer_1_delta\u001b[38;5;241m=\u001b[39mlayer_2_delta\u001b[38;5;241m.\u001b[39mdot(weights_1_2\u001b[38;5;241m.\u001b[39mT)\u001b[38;5;241m*\u001b[39mrelu2deriv(layer_1)\n\u001b[1;32m---> 25\u001b[0m     weights_1_2 \u001b[38;5;241m-\u001b[39m\u001b[38;5;241m=\u001b[39m alpha \u001b[38;5;241m*\u001b[39m layer_1\u001b[38;5;241m*\u001b[39mlayer_2_delta\n\u001b[0;32m     26\u001b[0m     weights_0_1 \u001b[38;5;241m-\u001b[39m\u001b[38;5;241m=\u001b[39m alpha \u001b[38;5;241m*\u001b[39m layer_0\u001b[38;5;241m*\u001b[39mlayer_1_delta\n\u001b[0;32m     27\u001b[0m \u001b[38;5;28;01mif\u001b[39;00m(iteration \u001b[38;5;241m%\u001b[39m \u001b[38;5;241m10\u001b[39m \u001b[38;5;241m==\u001b[39m \u001b[38;5;241m9\u001b[39m):\n",
      "\u001b[1;31mValueError\u001b[0m: non-broadcastable output operand with shape (4,1) doesn't match the broadcast shape (4,4)"
     ]
    }
   ],
   "source": [
    "np.random.seed(1)\n",
    "def relu(x):\n",
    " return (x > 0) * x\n",
    "def relu2deriv(output):\n",
    " return output>0\n",
    "streetlights = np.array( [[ 1, 0, 1 ],\n",
    " [ 0, 1, 1 ],\n",
    " [ 0, 0, 1 ],\n",
    " [ 1, 1, 1 ] ] )\n",
    "walk_vs_stop = np.array([[ 1, 1, 0, 0]]).T\n",
    "\n",
    "alpha = 0.2\n",
    "hidden_size = 4\n",
    "weights_0_1 = 2*np.random.random((3,hidden_size)) - 1\n",
    "weights_1_2 = 2*np.random.random((hidden_size,1)) - 1\n",
    "for iteration in range(60):\n",
    "     layer_2_error = 0\n",
    "     for i in range(len(streetlights)):\n",
    "         layer_0 = streetlights[i:i+1]\n",
    "         layer_1 = relu(np.dot(layer_0,weights_0_1))\n",
    "         layer_2 = np.dot(layer_1,weights_1_2)\n",
    "         layer_2_error += np.sum((layer_2 - walk_vs_stop[i:i+1]) ** 2)\n",
    "         layer_2_delta = (layer_2 - walk_vs_stop[i:i+1])\n",
    "         layer_1_delta=layer_2_delta.dot(weights_1_2.T)*relu2deriv(layer_1)\n",
    "         weights_1_2 -= alpha * layer_1*layer_2_delta\n",
    "         weights_0_1 -= alpha * layer_0*layer_1_delta\n",
    "     if(iteration % 10 == 9):\n",
    "         print(\"Error:\" + str(layer_2_error))"
   ]
  },
  {
   "cell_type": "code",
   "execution_count": null,
   "id": "ba976a25",
   "metadata": {},
   "outputs": [],
   "source": []
  }
 ],
 "metadata": {
  "kernelspec": {
   "display_name": "Python 3 (ipykernel)",
   "language": "python",
   "name": "python3"
  },
  "language_info": {
   "codemirror_mode": {
    "name": "ipython",
    "version": 3
   },
   "file_extension": ".py",
   "mimetype": "text/x-python",
   "name": "python",
   "nbconvert_exporter": "python",
   "pygments_lexer": "ipython3",
   "version": "3.11.5"
  }
 },
 "nbformat": 4,
 "nbformat_minor": 5
}
