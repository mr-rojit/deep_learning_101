{
 "cells": [
  {
   "cell_type": "markdown",
   "id": "c5053f44",
   "metadata": {},
   "source": [
    "### A simple neural network learning streetlight pattern"
   ]
  },
  {
   "cell_type": "code",
   "execution_count": 50,
   "id": "08a75eb1",
   "metadata": {},
   "outputs": [],
   "source": [
    "import numpy as np\n",
    "import pandas as pd"
   ]
  },
  {
   "cell_type": "markdown",
   "id": "70e722fb",
   "metadata": {},
   "source": [
    "#### we are creating dummy streetlight data"
   ]
  },
  {
   "cell_type": "code",
   "execution_count": 51,
   "id": "9fd7ec10",
   "metadata": {},
   "outputs": [
    {
     "data": {
      "text/html": [
       "<div>\n",
       "<style scoped>\n",
       "    .dataframe tbody tr th:only-of-type {\n",
       "        vertical-align: middle;\n",
       "    }\n",
       "\n",
       "    .dataframe tbody tr th {\n",
       "        vertical-align: top;\n",
       "    }\n",
       "\n",
       "    .dataframe thead th {\n",
       "        text-align: right;\n",
       "    }\n",
       "</style>\n",
       "<table border=\"1\" class=\"dataframe\">\n",
       "  <thead>\n",
       "    <tr style=\"text-align: right;\">\n",
       "      <th></th>\n",
       "      <th>Red</th>\n",
       "      <th>Orange</th>\n",
       "      <th>Green</th>\n",
       "      <th>Go</th>\n",
       "    </tr>\n",
       "  </thead>\n",
       "  <tbody>\n",
       "    <tr>\n",
       "      <th>0</th>\n",
       "      <td>1</td>\n",
       "      <td>0</td>\n",
       "      <td>0</td>\n",
       "      <td>0</td>\n",
       "    </tr>\n",
       "    <tr>\n",
       "      <th>1</th>\n",
       "      <td>0</td>\n",
       "      <td>0</td>\n",
       "      <td>1</td>\n",
       "      <td>1</td>\n",
       "    </tr>\n",
       "    <tr>\n",
       "      <th>2</th>\n",
       "      <td>0</td>\n",
       "      <td>1</td>\n",
       "      <td>0</td>\n",
       "      <td>1</td>\n",
       "    </tr>\n",
       "    <tr>\n",
       "      <th>3</th>\n",
       "      <td>0</td>\n",
       "      <td>0</td>\n",
       "      <td>1</td>\n",
       "      <td>1</td>\n",
       "    </tr>\n",
       "    <tr>\n",
       "      <th>4</th>\n",
       "      <td>1</td>\n",
       "      <td>0</td>\n",
       "      <td>0</td>\n",
       "      <td>0</td>\n",
       "    </tr>\n",
       "  </tbody>\n",
       "</table>\n",
       "</div>"
      ],
      "text/plain": [
       "   Red  Orange  Green  Go\n",
       "0    1       0      0   0\n",
       "1    0       0      1   1\n",
       "2    0       1      0   1\n",
       "3    0       0      1   1\n",
       "4    1       0      0   0"
      ]
     },
     "execution_count": 51,
     "metadata": {},
     "output_type": "execute_result"
    }
   ],
   "source": [
    "df= pd.DataFrame({\n",
    "    'Red': [1, 0, 0, 0, 1],\n",
    "    'Orange':[0, 0, 1, 0, 0],\n",
    "    'Green':[0, 1, 0, 1, 0],\n",
    "    'Go':[0, 1, 1, 1, 0]\n",
    "})\n",
    "df"
   ]
  },
  {
   "cell_type": "code",
   "execution_count": 52,
   "id": "226771a1",
   "metadata": {},
   "outputs": [],
   "source": [
    "X = df.drop('Go', axis=1).values\n",
    "y = df['Go'].values.reshape(-1,1)"
   ]
  },
  {
   "cell_type": "code",
   "execution_count": 53,
   "id": "e12008b2",
   "metadata": {},
   "outputs": [
    {
     "data": {
      "text/plain": [
       "array([[1, 0, 0],\n",
       "       [0, 0, 1],\n",
       "       [0, 1, 0],\n",
       "       [0, 0, 1],\n",
       "       [1, 0, 0]], dtype=int64)"
      ]
     },
     "execution_count": 53,
     "metadata": {},
     "output_type": "execute_result"
    }
   ],
   "source": [
    "X"
   ]
  },
  {
   "cell_type": "code",
   "execution_count": 54,
   "id": "cf62d33b",
   "metadata": {},
   "outputs": [
    {
     "data": {
      "text/plain": [
       "array([[0],\n",
       "       [1],\n",
       "       [1],\n",
       "       [1],\n",
       "       [0]], dtype=int64)"
      ]
     },
     "execution_count": 54,
     "metadata": {},
     "output_type": "execute_result"
    }
   ],
   "source": [
    "y"
   ]
  },
  {
   "cell_type": "code",
   "execution_count": 55,
   "id": "d902cf25",
   "metadata": {},
   "outputs": [],
   "source": [
    "# Before creating a NN with hidden layers we are creating simple NN with 3 inputs, 3 weights and 1 output"
   ]
  },
  {
   "cell_type": "code",
   "execution_count": 72,
   "id": "6c109c55",
   "metadata": {},
   "outputs": [
    {
     "name": "stdout",
     "output_type": "stream",
     "text": [
      "Epoc 1 -> Error 2.1654837021\n",
      "Epoc 2 -> Error 1.617103059310201\n",
      "Epoc 3 -> Error 1.4258945522012185\n",
      "Epoc 4 -> Error 1.3592242682086089\n",
      "Epoc 5 -> Error 1.3359777775850419\n",
      "Epoc 6 -> Error 1.3278722274966173\n",
      "Epoc 7 -> Error 1.325045996935633\n",
      "Epoc 8 -> Error 1.3240605512722656\n",
      "Epoc 9 -> Error 1.32371694761556\n",
      "Epoc 10 -> Error 1.3235971404285267\n",
      "Epoc 11 -> Error 1.3235553662454393\n",
      "Epoc 12 -> Error 1.3235408004884444\n",
      "Epoc 13 -> Error 1.3235357217230161\n",
      "Epoc 14 -> Error 1.323533950867009\n",
      "Epoc 15 -> Error 1.3235333334076989\n",
      "Epoc 16 -> Error 1.3235331181129495\n",
      "Epoc 17 -> Error 1.3235330430443122\n",
      "Epoc 18 -> Error 1.3235330168694968\n",
      "Epoc 19 -> Error 1.323533007742903\n",
      "Epoc 20 -> Error 1.3235330045606568\n",
      "Epoc 21 -> Error 1.323533003451076\n",
      "Epoc 22 -> Error 1.3235330030641892\n",
      "Epoc 23 -> Error 1.32353300292929\n",
      "Epoc 24 -> Error 1.3235330028822536\n",
      "Epoc 25 -> Error 1.323533002865853\n",
      "Epoc 26 -> Error 1.3235330028601344\n",
      "Epoc 27 -> Error 1.3235330028581405\n",
      "Epoc 28 -> Error 1.3235330028574452\n",
      "Epoc 29 -> Error 1.3235330028572028\n",
      "Epoc 30 -> Error 1.3235330028571184\n",
      "Epoc 31 -> Error 1.3235330028570889\n",
      "Epoc 32 -> Error 1.3235330028570786\n",
      "Epoc 33 -> Error 1.3235330028570749\n",
      "Epoc 34 -> Error 1.3235330028570735\n",
      "Epoc 35 -> Error 1.323533002857073\n",
      "Epoc 36 -> Error 1.323533002857073\n",
      "Epoc 37 -> Error 1.323533002857073\n",
      "Epoc 38 -> Error 1.323533002857073\n",
      "Epoc 39 -> Error 1.323533002857073\n",
      "Epoc 40 -> Error 1.323533002857073\n"
     ]
    }
   ],
   "source": [
    "# initlizing random weights\n",
    "x = X.copy()\n",
    "y = y.copy()\n",
    "alpha = 0.1\n",
    "i = 0\n",
    "weights = [0.1, 0.3, 0.5]\n",
    "\n",
    "inp =  x[i]\n",
    "\n",
    "def OneLayerNN(inp, weight):\n",
    "    for epoc in range(40):\n",
    "        total_error = 0\n",
    "        for i in range(len(x)):\n",
    "            pred = np.dot(inp, weight)\n",
    "            delta = pred - y[i]\n",
    "            error = delta **2\n",
    "            total_error += error[0]\n",
    "            weight_delta = inp * delta\n",
    "            weight -= alpha * weight_delta\n",
    "        print(f'Epoc {epoc+1} -> Error {total_error}')\n",
    "\n",
    "OneLayerNN(inp, weights)"
   ]
  },
  {
   "cell_type": "code",
   "execution_count": null,
   "id": "598b480c",
   "metadata": {},
   "outputs": [],
   "source": []
  },
  {
   "cell_type": "code",
   "execution_count": null,
   "id": "9106ef61",
   "metadata": {},
   "outputs": [],
   "source": []
  },
  {
   "cell_type": "code",
   "execution_count": null,
   "id": "8faaed5d",
   "metadata": {},
   "outputs": [],
   "source": []
  },
  {
   "cell_type": "code",
   "execution_count": null,
   "id": "0f60d25f",
   "metadata": {},
   "outputs": [],
   "source": []
  },
  {
   "cell_type": "code",
   "execution_count": null,
   "id": "cfb6bf10",
   "metadata": {},
   "outputs": [],
   "source": []
  },
  {
   "cell_type": "code",
   "execution_count": null,
   "id": "f8a6ed2f",
   "metadata": {},
   "outputs": [],
   "source": []
  },
  {
   "cell_type": "code",
   "execution_count": null,
   "id": "6533439c",
   "metadata": {},
   "outputs": [],
   "source": []
  },
  {
   "cell_type": "code",
   "execution_count": null,
   "id": "523924c0",
   "metadata": {},
   "outputs": [],
   "source": []
  }
 ],
 "metadata": {
  "kernelspec": {
   "display_name": "Python 3 (ipykernel)",
   "language": "python",
   "name": "python3"
  },
  "language_info": {
   "codemirror_mode": {
    "name": "ipython",
    "version": 3
   },
   "file_extension": ".py",
   "mimetype": "text/x-python",
   "name": "python",
   "nbconvert_exporter": "python",
   "pygments_lexer": "ipython3",
   "version": "3.11.5"
  }
 },
 "nbformat": 4,
 "nbformat_minor": 5
}
