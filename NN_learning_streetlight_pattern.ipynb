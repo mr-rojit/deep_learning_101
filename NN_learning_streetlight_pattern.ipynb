{
 "cells": [
  {
   "cell_type": "markdown",
   "id": "c5053f44",
   "metadata": {},
   "source": [
    "### A simple neural network learning streetlight pattern\n",
    "#### We will create deep NN with 2 layers(inp, hidden and output) with relu as activation function"
   ]
  },
  {
   "cell_type": "code",
   "execution_count": 179,
   "id": "08a75eb1",
   "metadata": {},
   "outputs": [],
   "source": [
    "import numpy as np\n",
    "import pandas as pd"
   ]
  },
  {
   "cell_type": "markdown",
   "id": "70e722fb",
   "metadata": {},
   "source": [
    "#### using streetlight data"
   ]
  },
  {
   "cell_type": "code",
   "execution_count": 180,
   "id": "9fd7ec10",
   "metadata": {},
   "outputs": [
    {
     "data": {
      "text/html": [
       "<div>\n",
       "<style scoped>\n",
       "    .dataframe tbody tr th:only-of-type {\n",
       "        vertical-align: middle;\n",
       "    }\n",
       "\n",
       "    .dataframe tbody tr th {\n",
       "        vertical-align: top;\n",
       "    }\n",
       "\n",
       "    .dataframe thead th {\n",
       "        text-align: right;\n",
       "    }\n",
       "</style>\n",
       "<table border=\"1\" class=\"dataframe\">\n",
       "  <thead>\n",
       "    <tr style=\"text-align: right;\">\n",
       "      <th></th>\n",
       "      <th>Red</th>\n",
       "      <th>Orange</th>\n",
       "      <th>Green</th>\n",
       "      <th>Go</th>\n",
       "    </tr>\n",
       "  </thead>\n",
       "  <tbody>\n",
       "    <tr>\n",
       "      <th>0</th>\n",
       "      <td>1</td>\n",
       "      <td>0</td>\n",
       "      <td>0</td>\n",
       "      <td>0</td>\n",
       "    </tr>\n",
       "    <tr>\n",
       "      <th>1</th>\n",
       "      <td>0</td>\n",
       "      <td>0</td>\n",
       "      <td>1</td>\n",
       "      <td>1</td>\n",
       "    </tr>\n",
       "    <tr>\n",
       "      <th>2</th>\n",
       "      <td>0</td>\n",
       "      <td>1</td>\n",
       "      <td>0</td>\n",
       "      <td>1</td>\n",
       "    </tr>\n",
       "    <tr>\n",
       "      <th>3</th>\n",
       "      <td>0</td>\n",
       "      <td>0</td>\n",
       "      <td>1</td>\n",
       "      <td>1</td>\n",
       "    </tr>\n",
       "    <tr>\n",
       "      <th>4</th>\n",
       "      <td>1</td>\n",
       "      <td>0</td>\n",
       "      <td>0</td>\n",
       "      <td>0</td>\n",
       "    </tr>\n",
       "  </tbody>\n",
       "</table>\n",
       "</div>"
      ],
      "text/plain": [
       "   Red  Orange  Green  Go\n",
       "0    1       0      0   0\n",
       "1    0       0      1   1\n",
       "2    0       1      0   1\n",
       "3    0       0      1   1\n",
       "4    1       0      0   0"
      ]
     },
     "execution_count": 180,
     "metadata": {},
     "output_type": "execute_result"
    }
   ],
   "source": [
    "df= pd.DataFrame({\n",
    "    'Red': [1, 0, 0, 0, 1],\n",
    "    'Orange':[0, 0, 1, 0, 0],\n",
    "    'Green':[0, 1, 0, 1, 0],\n",
    "    'Go':[0, 1, 1, 1, 0]\n",
    "})\n",
    "df"
   ]
  },
  {
   "cell_type": "code",
   "execution_count": 181,
   "id": "226771a1",
   "metadata": {},
   "outputs": [],
   "source": [
    "X = df.drop('Go', axis=1).values\n",
    "y = df['Go'].values.reshape(-1,1)"
   ]
  },
  {
   "cell_type": "code",
   "execution_count": 182,
   "id": "e12008b2",
   "metadata": {},
   "outputs": [
    {
     "data": {
      "text/plain": [
       "array([[1, 0, 0],\n",
       "       [0, 0, 1],\n",
       "       [0, 1, 0],\n",
       "       [0, 0, 1],\n",
       "       [1, 0, 0]], dtype=int64)"
      ]
     },
     "execution_count": 182,
     "metadata": {},
     "output_type": "execute_result"
    }
   ],
   "source": [
    "X"
   ]
  },
  {
   "cell_type": "code",
   "execution_count": 183,
   "id": "cf62d33b",
   "metadata": {},
   "outputs": [
    {
     "data": {
      "text/plain": [
       "array([[0],\n",
       "       [1],\n",
       "       [1],\n",
       "       [1],\n",
       "       [0]], dtype=int64)"
      ]
     },
     "execution_count": 183,
     "metadata": {},
     "output_type": "execute_result"
    }
   ],
   "source": [
    "y"
   ]
  },
  {
   "cell_type": "code",
   "execution_count": 184,
   "id": "4b393ce8",
   "metadata": {},
   "outputs": [],
   "source": [
    "# We are creating 3 inputs, 4 hidden and 1 output node\n",
    "hidden_size = 4"
   ]
  },
  {
   "cell_type": "code",
   "execution_count": 185,
   "id": "4bdad168",
   "metadata": {},
   "outputs": [],
   "source": [
    "np.random.seed(1)\n",
    "alpha = 0.01\n",
    "def relu(x):\n",
    "    return (x > 0) * x\n",
    "\n",
    "def relu2deriv(output):\n",
    "    return output > 0\n",
    "\n",
    "weights_0_1 = 2*np.random.random((3,hidden_size)) -1\n",
    "weights_1_2 = 2*np.random.random((hidden_size, 1)) -1"
   ]
  },
  {
   "cell_type": "code",
   "execution_count": 188,
   "id": "a9d03141",
   "metadata": {},
   "outputs": [
    {
     "name": "stdout",
     "output_type": "stream",
     "text": [
      "[-0.33323413]\n",
      "[0.81499524]\n",
      "[1.]\n",
      "[0.81499524]\n",
      "[-0.33323413]\n"
     ]
    }
   ],
   "source": [
    "\n",
    "\n",
    "for i in range(len(X)):\n",
    "    layer_0 = X[i]\n",
    "    layer_1 = np.dot(layer_0, weights_0_1)\n",
    "    layer_1_activation = relu(layer_1)\n",
    "    pred = np.dot(layer_1_activation, weights_1_2)\n",
    "    layer_2_delta = (y[i] - pred)\n",
    "    layer_2_error = delta ** 2\n",
    "    print(layer_2_delta)\n",
    "\n"
   ]
  },
  {
   "cell_type": "code",
   "execution_count": null,
   "id": "442a5a89",
   "metadata": {},
   "outputs": [],
   "source": []
  },
  {
   "cell_type": "code",
   "execution_count": null,
   "id": "6586d468",
   "metadata": {},
   "outputs": [],
   "source": []
  },
  {
   "cell_type": "code",
   "execution_count": null,
   "id": "1ba332a4",
   "metadata": {},
   "outputs": [],
   "source": []
  },
  {
   "cell_type": "code",
   "execution_count": null,
   "id": "7309d512",
   "metadata": {},
   "outputs": [],
   "source": []
  }
 ],
 "metadata": {
  "kernelspec": {
   "display_name": "Python 3 (ipykernel)",
   "language": "python",
   "name": "python3"
  },
  "language_info": {
   "codemirror_mode": {
    "name": "ipython",
    "version": 3
   },
   "file_extension": ".py",
   "mimetype": "text/x-python",
   "name": "python",
   "nbconvert_exporter": "python",
   "pygments_lexer": "ipython3",
   "version": "3.11.5"
  }
 },
 "nbformat": 4,
 "nbformat_minor": 5
}
